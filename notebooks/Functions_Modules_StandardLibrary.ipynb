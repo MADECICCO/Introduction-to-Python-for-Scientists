{
 "cells": [
  {
   "cell_type": "markdown",
   "metadata": {},
   "source": [
    "Functions, Modules, and the Python Standard Library\n",
    "===================================================\n",
    "\n",
    "Content\n",
    "-------\n",
    "* Functions\n",
    "* Modules\n",
    "* Python Standard Library\n",
    "\n",
    "Functions\n",
    "---------\n",
    "(see https://docs.python.org/2/tutorial/controlflow.html#defining-functions)\n",
    "\n",
    "Functions increase the modularity and functionality of your code. Create functions for pieces of code that you will use more than once. That makes your code easier to read."
   ]
  },
  {
   "cell_type": "code",
   "execution_count": 1,
   "metadata": {
    "collapsed": false
   },
   "outputs": [
    {
     "name": "stdout",
     "output_type": "stream",
     "text": [
      "28.26\n",
      "27\n",
      "determine area of a circle, given its radius\n"
     ]
    }
   ],
   "source": [
    "def area_circle(radius, pi=3.14):\n",
    "    \"\"\"determine area of a circle, given its radius\"\"\"   # documentation! \n",
    "    return pi*radius*radius\n",
    "\n",
    "print area_circle(3) # uses the default value of 'pi'\n",
    "print area_circle(3, pi=3)  # uses your own value of 'pi'\n",
    "print area_circle.__doc__"
   ]
  },
  {
   "cell_type": "markdown",
   "metadata": {},
   "source": [
    "Note that code that is part of a function has to be indented. ``return`` literally returns some value that replaces the function call - in this case, it acts as an argument to ``print``. A documentation line briefly describing what the function does is a sign of good manners and useful to other people using your code.\n",
    "\n",
    "A special case of function is a ``lambda`` function. It allows for defining so-called \"inline\" functions in your code:"
   ]
  },
  {
   "cell_type": "code",
   "execution_count": 2,
   "metadata": {
    "collapsed": false
   },
   "outputs": [
    {
     "data": {
      "text/plain": [
       "28.259999999999998"
      ]
     },
     "execution_count": 2,
     "metadata": {},
     "output_type": "execute_result"
    }
   ],
   "source": [
    "area = lambda r: 3.14*r*r\n",
    "area(3)"
   ]
  },
  {
   "cell_type": "markdown",
   "metadata": {},
   "source": [
    "Python supports \"functional programming\", which means that functions can be passed as arguments to other functions:"
   ]
  },
  {
   "cell_type": "code",
   "execution_count": 3,
   "metadata": {
    "collapsed": false
   },
   "outputs": [
    {
     "name": "stdout",
     "output_type": "stream",
     "text": [
      "[3, 4, 5, 6, 7, 8, 9, 10, 11, 12]\n"
     ]
    }
   ],
   "source": [
    "print map(lambda x: x+3, range(10))"
   ]
  },
  {
   "cell_type": "markdown",
   "metadata": {},
   "source": [
    "Modules\n",
    "-------\n",
    "(see https://docs.python.org/2/tutorial/modules.html)\n",
    "\n",
    "Modules provide additional functionality. Importing modules allows you to access functions, variables, and other things defined within their \"namespace\". The namespace concept is important to understand how to use modules properly. "
   ]
  },
  {
   "cell_type": "code",
   "execution_count": 4,
   "metadata": {
    "collapsed": false
   },
   "outputs": [
    {
     "name": "stdout",
     "output_type": "stream",
     "text": [
      "['In', 'Out', '_', '_2', '__', '___', '__builtin__', '__builtins__', '__doc__', '__name__', '_dh', '_i', '_i1', '_i2', '_i3', '_i4', '_ih', '_ii', '_iii', '_oh', '_sh', 'a', 'area', 'area_circle', 'exit', 'get_ipython', 'quit']\n"
     ]
    }
   ],
   "source": [
    "a = 3\n",
    "print dir()"
   ]
  },
  {
   "cell_type": "markdown",
   "metadata": {},
   "source": [
    "``dir()`` prints all elements in the current namespace of your program (e.g., variable `a`). Your namespace contains all functions, variables, etc. that you have created as part of your code. \n",
    "\n",
    "Let's come back to modules. There are different ways to import modules that have different effects on your namespace. This is the easiest way:"
   ]
  },
  {
   "cell_type": "code",
   "execution_count": 5,
   "metadata": {
    "collapsed": false
   },
   "outputs": [
    {
     "data": {
      "text/plain": [
       "['__doc__',\n",
       " '__name__',\n",
       " '__package__',\n",
       " 'acos',\n",
       " 'acosh',\n",
       " 'asin',\n",
       " 'asinh',\n",
       " 'atan',\n",
       " 'atan2',\n",
       " 'atanh',\n",
       " 'ceil',\n",
       " 'copysign',\n",
       " 'cos',\n",
       " 'cosh',\n",
       " 'degrees',\n",
       " 'e',\n",
       " 'erf',\n",
       " 'erfc',\n",
       " 'exp',\n",
       " 'expm1',\n",
       " 'fabs',\n",
       " 'factorial',\n",
       " 'floor',\n",
       " 'fmod',\n",
       " 'frexp',\n",
       " 'fsum',\n",
       " 'gamma',\n",
       " 'hypot',\n",
       " 'isinf',\n",
       " 'isnan',\n",
       " 'ldexp',\n",
       " 'lgamma',\n",
       " 'log',\n",
       " 'log10',\n",
       " 'log1p',\n",
       " 'modf',\n",
       " 'pi',\n",
       " 'pow',\n",
       " 'radians',\n",
       " 'sin',\n",
       " 'sinh',\n",
       " 'sqrt',\n",
       " 'tan',\n",
       " 'tanh',\n",
       " 'trunc']"
      ]
     },
     "execution_count": 5,
     "metadata": {},
     "output_type": "execute_result"
    }
   ],
   "source": [
    "import math\n",
    "dir(math)"
   ]
  },
  {
   "cell_type": "markdown",
   "metadata": {},
   "source": [
    "In order to address any element in the ``math`` namespace, you have to specifically tell Python that this element is in the ``math`` namespace:"
   ]
  },
  {
   "cell_type": "code",
   "execution_count": 6,
   "metadata": {
    "collapsed": false
   },
   "outputs": [
    {
     "name": "stdout",
     "output_type": "stream",
     "text": [
      "2.0\n"
     ]
    }
   ],
   "source": [
    "#sqrt(4)     # will cause a NameError, as sqrt is not defined in your namespace\n",
    "print math.sqrt(4)"
   ]
  },
  {
   "cell_type": "markdown",
   "metadata": {},
   "source": [
    "You can rename namespaces of modules upon importing them:"
   ]
  },
  {
   "cell_type": "code",
   "execution_count": 7,
   "metadata": {
    "collapsed": false
   },
   "outputs": [
    {
     "name": "stdout",
     "output_type": "stream",
     "text": [
      "3.0\n"
     ]
    }
   ],
   "source": [
    "import math as m\n",
    "print m.sqrt(9)"
   ]
  },
  {
   "cell_type": "markdown",
   "metadata": {},
   "source": [
    "Or you can import the entire namespace of a module in your namespace:"
   ]
  },
  {
   "cell_type": "code",
   "execution_count": 8,
   "metadata": {
    "collapsed": false
   },
   "outputs": [
    {
     "name": "stdout",
     "output_type": "stream",
     "text": [
      "4.0\n"
     ]
    }
   ],
   "source": [
    "from math import *\n",
    "print sqrt(16)"
   ]
  },
  {
   "cell_type": "markdown",
   "metadata": {},
   "source": [
    "However, this is dangerous, as you might up with a namespace where different things share the same name. Try not to use ``from XXX import *``. Instead, you can import specific things of which you know that you will use them more often:"
   ]
  },
  {
   "cell_type": "code",
   "execution_count": 9,
   "metadata": {
    "collapsed": false
   },
   "outputs": [
    {
     "name": "stdout",
     "output_type": "stream",
     "text": [
      "6.0\n"
     ]
    }
   ],
   "source": [
    "from math import sqrt\n",
    "print sqrt(36)"
   ]
  },
  {
   "cell_type": "markdown",
   "metadata": {},
   "source": [
    "The Python Standard Library\n",
    "===========================\n",
    "\n",
    "This is just a quick introduction of some libraries that you might want to use regularly in the future. See https://docs.python.org/2/library/index.html#library-index for more details.\n",
    "\n",
    "Math\n",
    "----\n",
    "(see https://docs.python.org/2/library/math.html)"
   ]
  },
  {
   "cell_type": "code",
   "execution_count": 10,
   "metadata": {
    "collapsed": false
   },
   "outputs": [
    {
     "name": "stdout",
     "output_type": "stream",
     "text": [
      "3.14159265359\n",
      "2.0\n",
      "3.13\n",
      "2.71828182846\n",
      "1.0\n",
      "2.0\n",
      "1.0\n",
      "1.22464679915e-16\n"
     ]
    }
   ],
   "source": [
    "import math\n",
    "\n",
    "print math.pi\n",
    "print math.sqrt(4)       # square root\n",
    "print math.fabs(-3.13)   # absolute value (for floats)\n",
    "print math.exp(1)        # exponential function\n",
    "print math.log(math.e)   # natural log\n",
    "print math.log10(100)    # base-10 log   \n",
    "print math.cos(0)        # cosine\n",
    "print math.sin(math.pi)  # sine"
   ]
  },
  {
   "cell_type": "markdown",
   "metadata": {},
   "source": [
    "os (Operating System)\n",
    "---------------------\n",
    "(see https://docs.python.org/2/library/os.html)"
   ]
  },
  {
   "cell_type": "code",
   "execution_count": 11,
   "metadata": {
    "collapsed": false,
    "scrolled": true
   },
   "outputs": [
    {
     "name": "stdout",
     "output_type": "stream",
     "text": [
      "/home/mommermi/nau/teaching/2016Fall_Python/Introduction-to-Python-for-Scientists/notebooks\n",
      "['assignments', '.gitignore', 'LICENSE', 'notebooks', '.git', 'readme.rst', 'introduction.pdf']\n"
     ]
    }
   ],
   "source": [
    "import os\n",
    "\n",
    "print os.getcwd()       # get the current working directory\n",
    "os.chdir('../')   # change the current working directory\n",
    "print os.listdir('.')   # list files and directories in this directory\n",
    "os.mkdir('/tmp/test')  # create directory\n",
    "os.rmdir('/tmp/test')  # remove directory\n",
    "os.access('test.dat', os.F_OK) # check if file exists\n",
    "os.remove('test.dat') if os.access('test.dat', os.F_OK) else None # remove a file if it exists\n",
    "#os.abort()        # abort code execution"
   ]
  },
  {
   "cell_type": "markdown",
   "metadata": {},
   "source": [
    "A powerful script that walks from a specific directory downwards:"
   ]
  },
  {
   "cell_type": "code",
   "execution_count": null,
   "metadata": {
    "collapsed": false
   },
   "outputs": [],
   "source": [
    "for root, dirs, files in os.walk('.'): \n",
    "    print 'in', root\n",
    "    print '  files', files "
   ]
  },
  {
   "cell_type": "markdown",
   "metadata": {},
   "source": [
    "datetime (Basic date and time types)\n",
    "------------------------------------\n",
    "(see https://docs.python.org/2/library/datetime.html)"
   ]
  },
  {
   "cell_type": "code",
   "execution_count": 13,
   "metadata": {
    "collapsed": false
   },
   "outputs": [
    {
     "name": "stdout",
     "output_type": "stream",
     "text": [
      "2016-09-29 15:43:11.307719\n",
      "2016-09-29 15:13:11\n"
     ]
    }
   ],
   "source": [
    "import datetime\n",
    "\n",
    "a = datetime.datetime.now()      # current time (local time)\n",
    "b = datetime.datetime.utcnow()   # current time (UT)\n",
    "\n",
    "print a + datetime.timedelta(minutes=30)  # add 30 minutes to datetime object\n",
    "\n",
    "a_str = a.strftime(\"%d/%m/%y %H:%M:%S\")   # nicely format datetime object\n",
    "print datetime.datetime.strptime(a_str, \"%d/%m/%y %H:%M:%S\") # convert string to datetime object\n"
   ]
  },
  {
   "cell_type": "markdown",
   "metadata": {},
   "source": [
    "time (Simple Time Operations - good enough for a Stopwatch)\n",
    "-----------------------------------------------------------\n",
    "(see https://docs.python.org/2/library/time.html)"
   ]
  },
  {
   "cell_type": "code",
   "execution_count": 14,
   "metadata": {
    "collapsed": false
   },
   "outputs": [
    {
     "name": "stdout",
     "output_type": "stream",
     "text": [
      "7.00950622559e-05\n"
     ]
    }
   ],
   "source": [
    "import time\n",
    "\n",
    "start = time.time()\n",
    "# do stuff\n",
    "print time.time()-start # number of seconds it took the code to run\n"
   ]
  },
  {
   "cell_type": "markdown",
   "metadata": {},
   "source": [
    "urllib2 (Library for dealing with URLs)\n",
    "---------------------------------------\n",
    "(see https://docs.python.org/2/library/urllib2.html)"
   ]
  },
  {
   "cell_type": "code",
   "execution_count": 15,
   "metadata": {
    "collapsed": false
   },
   "outputs": [],
   "source": [
    "import urllib2\n",
    "\n",
    "url = 'http://nearearthobjects.nau.edu/neosurvey/results.html'\n",
    "a = urllib2.urlopen(url).readlines()  # grab website source code \n",
    "#print  a"
   ]
  },
  {
   "cell_type": "markdown",
   "metadata": {},
   "source": [
    "subprocess (Run External Programs)\n",
    "----------------------------------\n",
    "(see https://docs.python.org/2.6/library/subprocess.html)"
   ]
  },
  {
   "cell_type": "code",
   "execution_count": 16,
   "metadata": {
    "collapsed": false
   },
   "outputs": [
    {
     "name": "stdout",
     "output_type": "stream",
     "text": [
      "['assignments', 'introduction.pdf', 'LICENSE', 'notebooks', 'readme.rst', '']\n"
     ]
    }
   ],
   "source": [
    "import subprocess\n",
    "\n",
    "subprocess.Popen(['ls', '-1'])  # call 'ls -1'\n",
    "\n",
    "s = subprocess.Popen(['ls', '-1'], stdout=subprocess.PIPE, stderr=subprocess.PIPE, universal_newlines=True) # call 'ls -1' and catch the screen output\n",
    "s.wait()        # wait for s to end\n",
    "output = s.communicate()[0].split('\\n')\n",
    "print output"
   ]
  }
 ],
 "metadata": {
  "kernelspec": {
   "display_name": "Python 2",
   "language": "python",
   "name": "python2"
  },
  "language_info": {
   "codemirror_mode": {
    "name": "ipython",
    "version": 2
   },
   "file_extension": ".py",
   "mimetype": "text/x-python",
   "name": "python",
   "nbconvert_exporter": "python",
   "pygments_lexer": "ipython2",
   "version": "2.7.12"
  }
 },
 "nbformat": 4,
 "nbformat_minor": 0
}
