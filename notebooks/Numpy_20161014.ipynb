{
 "cells": [
  {
   "cell_type": "markdown",
   "metadata": {},
   "source": [
    "# Numpy\n",
    "\n",
    "(see http://www.numpy.org/)\n",
    "\n",
    "Numpy allows for dealing with multi-dimensional numerical data in an extremely efficient way.\n",
    "\n",
    "## Motivation\n",
    "\n",
    "\n",
    "Assume you want to apply a function to each value in a long list (10 million elements):"
   ]
  },
  {
   "cell_type": "code",
   "execution_count": 1,
   "metadata": {
    "collapsed": false
   },
   "outputs": [
    {
     "name": "stdout",
     "output_type": "stream",
     "text": [
      "2.1906940937 seconds\n"
     ]
    }
   ],
   "source": [
    "import time\n",
    "import math\n",
    "\n",
    "a = range(10000000)\n",
    "\n",
    "def func(a):\n",
    "    return 1e-6*(4*a**2.) #7+1./(a+3)**3.4-(23*a)**4.2)-20\n",
    "\n",
    "# measure how long it takes in seconds\n",
    "start_time = time.time()\n",
    "\n",
    "new_a = []\n",
    "for val in a:\n",
    "    new_a.append(func(val))\n",
    "    \n",
    "print time.time()-start_time, \"seconds\""
   ]
  },
  {
   "cell_type": "markdown",
   "metadata": {},
   "source": [
    "This works, but requires a lot of code. A shorter version would be this here:"
   ]
  },
  {
   "cell_type": "code",
   "execution_count": 2,
   "metadata": {
    "collapsed": false
   },
   "outputs": [
    {
     "name": "stdout",
     "output_type": "stream",
     "text": [
      "1.7215218544 seconds\n"
     ]
    }
   ],
   "source": [
    "start_time = time.time()\n",
    "new_a = map(func, a)\n",
    "print time.time()-start_time, \"seconds\""
   ]
  },
  {
   "cell_type": "markdown",
   "metadata": {},
   "source": [
    "... but this takes about the same time.\n",
    "\n",
    "Using numpy, the code is even shorter, easier to read and a lot faster:"
   ]
  },
  {
   "cell_type": "code",
   "execution_count": 3,
   "metadata": {
    "collapsed": false
   },
   "outputs": [
    {
     "name": "stdout",
     "output_type": "stream",
     "text": [
      "0.818804979324 seconds\n"
     ]
    }
   ],
   "source": [
    "import numpy\n",
    "\n",
    "start_time = time.time()\n",
    "a = numpy.array(a)\n",
    "new_a = func(a)\n",
    "print time.time()-start_time, \"seconds\""
   ]
  },
  {
   "cell_type": "markdown",
   "metadata": {},
   "source": [
    "What is different? `a` is converted from a list into a numpy array and then `func` is applied to array `a` as a whole and not on each individual element. This approach is faster because 'under the hood' numpy uses C routines for its arrays that are a lot faster dealing than native Python routines."
   ]
  },
  {
   "cell_type": "markdown",
   "metadata": {},
   "source": [
    "## Arrays\n",
    "\n",
    "(see http://docs.scipy.org/doc/numpy/user/basics.creation.html)\n",
    "\n",
    "Numpy arrays look very similar to list but are a lot more powerful."
   ]
  },
  {
   "cell_type": "code",
   "execution_count": 4,
   "metadata": {
    "collapsed": false
   },
   "outputs": [
    {
     "name": "stdout",
     "output_type": "stream",
     "text": [
      "[0, 1, 2, 3, 4, 5, 6, 7, 8, 9]\n",
      "<type 'list'>\n",
      "[0 1 2 3 4 5 6 7 8 9]\n",
      "<type 'numpy.ndarray'>\n",
      "[0 1 2 3 4 5 6 7 8 9]\n",
      "[  0.           1.11111111   2.22222222   3.33333333   4.44444444\n",
      "   5.55555556   6.66666667   7.77777778   8.88888889  10.        ]\n",
      "[ 1.  1.  1.  1.  1.  1.  1.  1.  1.  1.]\n",
      "[ 0.  0.  0.  0.  0.  0.  0.  0.  0.  0.]\n",
      "[[0 1 2 3 4]\n",
      " [5 6 7 8 9]]\n",
      "(10,) (2, 5)\n"
     ]
    }
   ],
   "source": [
    "l = range(10)\n",
    "print l\n",
    "print type(l) # this is a list\n",
    "\n",
    "a = numpy.array(l)  # arrays are created from lists...\n",
    "print a\n",
    "print type(a) # this is an array\n",
    "\n",
    "print numpy.arange(0, 10, 1)  # ... or using numpy functions (this is the equivalent of range())\n",
    "print numpy.linspace(0, 10, 10) # arange requires the step size, linspace the number of steps\n",
    "print numpy.ones(10)\n",
    "print numpy.zeros(10)\n",
    "b = a.reshape((2,5))  # arrays can be reshaped into multi-dimensional arrays\n",
    "print b\n",
    "\n",
    "print a.shape, b.shape"
   ]
  },
  {
   "cell_type": "markdown",
   "metadata": {},
   "source": [
    "One advantage of arrays is that functions can be applied to entire arrays:"
   ]
  },
  {
   "cell_type": "code",
   "execution_count": 5,
   "metadata": {
    "collapsed": false
   },
   "outputs": [
    {
     "name": "stdout",
     "output_type": "stream",
     "text": [
      "[0 1 2 3 4 5 6 7 8 9]\n",
      "[ 0.          1.          1.41421356  1.73205081  2.          2.23606798\n",
      "  2.44948974  2.64575131  2.82842712  3.        ]\n",
      "[ 5  6  7  8  9 10 11 12 13 14]\n",
      "[ 0.   0.5  1.   1.5  2.   2.5  3.   3.5  4.   4.5]\n",
      "[  0.00000000e+00   4.00000000e-06   1.60000000e-05   3.60000000e-05\n",
      "   6.40000000e-05   1.00000000e-04   1.44000000e-04   1.96000000e-04\n",
      "   2.56000000e-04   3.24000000e-04]\n"
     ]
    }
   ],
   "source": [
    "print a\n",
    "print numpy.sqrt(a)\n",
    "print a + 5\n",
    "print a / 2.\n",
    "print func(a)"
   ]
  },
  {
   "cell_type": "markdown",
   "metadata": {},
   "source": [
    "**An Example**: how would you implement the vector module from assignment 3 using arrays?"
   ]
  },
  {
   "cell_type": "code",
   "execution_count": 6,
   "metadata": {
    "collapsed": false
   },
   "outputs": [
    {
     "name": "stdout",
     "output_type": "stream",
     "text": [
      "add [1 1 1]\n",
      "subtract [-1  1 -1]\n",
      "multiply [0 0 0]\n",
      "absolute 1.0\n",
      "dotproduct 0\n",
      "angle 90.0\n"
     ]
    }
   ],
   "source": [
    "a = numpy.array([0,1,0])\n",
    "b = numpy.array([1,0,1])\n",
    "\n",
    "print 'add', a+b       # arrays are already defined to do element-wise operations\n",
    "print 'subtract', a-b\n",
    "print 'multiply', a*b\n",
    "print 'absolute', numpy.sqrt(numpy.sum(a*a))\n",
    "print 'dotproduct', numpy.sum(a*b)\n",
    "print 'angle', numpy.rad2deg(numpy.arccos(numpy.sum(a*b)/numpy.sqrt(numpy.sum(a*a))/numpy.sqrt(numpy.sum(b*b))))"
   ]
  },
  {
   "cell_type": "markdown",
   "metadata": {},
   "source": [
    "### Indexing\n",
    "\n",
    "(see http://docs.scipy.org/doc/numpy/user/basics.indexing.html)\n",
    "\n",
    "Arrays can be indexed the same way as lists:"
   ]
  },
  {
   "cell_type": "code",
   "execution_count": 7,
   "metadata": {
    "collapsed": false
   },
   "outputs": [
    {
     "name": "stdout",
     "output_type": "stream",
     "text": [
      "3\n",
      "[1 2 3 4]\n",
      "[7 6 5 4 3]\n"
     ]
    }
   ],
   "source": [
    "a = numpy.arange(10)\n",
    "print a[3]\n",
    "print a[1:5]\n",
    "print a[7:2:-1]"
   ]
  },
  {
   "cell_type": "markdown",
   "metadata": {},
   "source": [
    "Arrays can also be indexed using *mask indexing*:"
   ]
  },
  {
   "cell_type": "code",
   "execution_count": 8,
   "metadata": {
    "collapsed": false
   },
   "outputs": [
    {
     "name": "stdout",
     "output_type": "stream",
     "text": [
      "[0 1 2 3 4]\n",
      "[0 2 4 6 8]\n",
      "[ 4  6  8 10 12]\n"
     ]
    }
   ],
   "source": [
    "print a[a < 5]\n",
    "print a[a % 2 == 0]\n",
    "print a[((a > 1) & (a < 7))]*2"
   ]
  },
  {
   "cell_type": "markdown",
   "metadata": {},
   "source": [
    "Mask indexing is easy to read and extremely fast even on large arrays."
   ]
  },
  {
   "cell_type": "markdown",
   "metadata": {},
   "source": [
    "### Structured Arrays\n",
    "\n",
    "(see http://docs.scipy.org/doc/numpy/user/basics.rec.html)\n",
    "\n",
    "Assume you have a table of positional data (x, y, z coordinates) that you write into a list of triples (each row of the table corresponds to one element in your list, the different columns for each row are the elements of the tuples) and you want to use these data as flexibly as possible. You can turn that list into a *structured array*:"
   ]
  },
  {
   "cell_type": "code",
   "execution_count": 9,
   "metadata": {
    "collapsed": false
   },
   "outputs": [],
   "source": [
    "l = [(1, 0, 0), (2, 3, 1), (4, 2, 0), (0, 1, 0), (2, 6, 2)]\n",
    "s = numpy.array(l, dtype=[('x', int), ('y', int), ('z', int)])"
   ]
  },
  {
   "cell_type": "markdown",
   "metadata": {},
   "source": [
    "There are two major differences between simple arrays and structured arrays:\n",
    "* the list from which the structured array is built must consist of tuples (that makes structured arrays immutable)\n",
    "* when defining a structured array, you have to define its datatype (`dtype`); for each \"column\" of your table provide a \"column name\" (string) and a datatype (see below)\n",
    "\n",
    "Defining the individual datatypes means some extra work, but it is worth the effort:"
   ]
  },
  {
   "cell_type": "code",
   "execution_count": 10,
   "metadata": {
    "collapsed": false
   },
   "outputs": [
    {
     "name": "stdout",
     "output_type": "stream",
     "text": [
      "(1, 0, 0)\n",
      "[1 2 4 0 2]\n",
      "[(1, 0, 0) (2, 3, 1) (4, 2, 0) (0, 1, 0) (2, 6, 2)]\n",
      "[(4, 2, 0)]\n"
     ]
    }
   ],
   "source": [
    "print s[0]   # provides you with the first row of your table; just like an ordinary array\n",
    "print s['x'] # provides you with all x elements\n",
    "print s\n",
    "print s[((s['y'] < 3) & (s['x'] > 1))] # of course you can use masked indexing, too"
   ]
  },
  {
   "cell_type": "markdown",
   "metadata": {},
   "source": [
    "## Numpy Routines and Other Useful Things\n",
    "\n",
    "Numpy provides a wide range of routines that are based on arrays and simplify life a lot.\n",
    "\n",
    "### File I/O\n",
    "\n",
    "(see http://docs.scipy.org/doc/numpy/reference/routines.io.html)\n",
    "\n",
    "Read a file into an array:"
   ]
  },
  {
   "cell_type": "code",
   "execution_count": 11,
   "metadata": {
    "collapsed": false
   },
   "outputs": [],
   "source": [
    "# data = numpy.genfromtxt('data.txt')  # minimal example; creates a simple array\n",
    "# data = numpy.genfromtxt('data.txt', usecols=(0, 1, 3))  # allows to specify which columns to read into array\n",
    "# data = numpy.genfromtxt('data.txt', dtype=[float, float, float], names=['x', 'y', 'z']) # creates a structured array"
   ]
  },
  {
   "cell_type": "markdown",
   "metadata": {},
   "source": [
    "`genfromtxt` is a lot faster in reading in files than looping through the individual lines of the file. There is one disadvantage: the data file must have no gaps - missing data have to be indicated (e.g., using `NaN`). \n",
    "\n",
    "Arrays can be efficiently written into files using:"
   ]
  },
  {
   "cell_type": "code",
   "execution_count": 12,
   "metadata": {
    "collapsed": true
   },
   "outputs": [],
   "source": [
    "# numpy.savetxt('data.txt', data, header=('  x      y      z'), fmt='%4.1f   %4.1f   %4.1f')"
   ]
  },
  {
   "cell_type": "markdown",
   "metadata": {},
   "source": [
    "### Datatypes\n",
    "\n",
    "(see http://docs.scipy.org/doc/numpy/reference/arrays.dtypes.html)\n",
    "\n",
    "Numpy provides a number of more sophisticated data types than basic Python:"
   ]
  },
  {
   "cell_type": "code",
   "execution_count": 13,
   "metadata": {
    "collapsed": false,
    "scrolled": true
   },
   "outputs": [
    {
     "name": "stdout",
     "output_type": "stream",
     "text": [
      "100\n",
      "44\n",
      "float32\n",
      "float16\n",
      "float32\n"
     ]
    }
   ],
   "source": [
    "print numpy.int8(100)  # Unsigned integer (0 to 255)\n",
    "print numpy.int8(300)  # watch out! \n",
    "b = numpy.float32(1.3) # create a 32 bit float\n",
    "print b.dtype          # find out data type\n",
    "print b.astype(numpy.float16).dtype  # convert to 16 bit float\n",
    "print (b+numpy.float16(0.7)).dtype # use the least complex datatype"
   ]
  },
  {
   "cell_type": "markdown",
   "metadata": {},
   "source": [
    "### Math Constants and Functions\n",
    "\n",
    "(see http://docs.scipy.org/doc/numpy/reference/routines.math.html)\n",
    "\n",
    "Mathematical constants and functions provided by numpy are basically the same as those in math, but only the numpy ones work on arrays!"
   ]
  },
  {
   "cell_type": "code",
   "execution_count": 14,
   "metadata": {
    "collapsed": false
   },
   "outputs": [
    {
     "name": "stdout",
     "output_type": "stream",
     "text": [
      "3.14159265359\n",
      "2.71828182846\n",
      "inf\n",
      "nan\n",
      "True\n",
      "True\n",
      "55.6543975994\n",
      "180.0\n",
      "1.23\n",
      "[ 1.   1.   1.5  0.  -1.5 -1.  -1. ]\n"
     ]
    }
   ],
   "source": [
    "print numpy.pi     \n",
    "print numpy.e      # Euler e\n",
    "print numpy.infty  # infinity\n",
    "print numpy.nan    # 'not a number'\n",
    "\n",
    "print numpy.isnan(numpy.nan)     # check for nan\n",
    "print numpy.isinf(numpy.infty)   # check for infinity\n",
    "\n",
    "print numpy.sinh(3./2.*numpy.pi) # hyperbolic sine function\n",
    "print numpy.rad2deg(numpy.pi)    # convert radians to degrees\n",
    "print numpy.round(1.23456789, 2) # round a float to a certain number of digits after the floating point\n",
    "print numpy.gradient(numpy.array([1,2,3,5,3,2,1])) # central diff. gradient"
   ]
  },
  {
   "cell_type": "markdown",
   "metadata": {},
   "source": [
    "### Sorting, Searching, and Counting\n",
    "\n",
    "(see http://docs.scipy.org/doc/numpy/reference/routines.sort.html)"
   ]
  },
  {
   "cell_type": "code",
   "execution_count": 15,
   "metadata": {
    "collapsed": false
   },
   "outputs": [
    {
     "name": "stdout",
     "output_type": "stream",
     "text": [
      "[1 2 3 4 5 6 7 8 9]\n",
      "(array([0, 1, 2, 4]),)\n",
      "2\n",
      "5\n",
      "[2 4 1 0 6 8 3 7 5]\n"
     ]
    }
   ],
   "source": [
    "a = numpy.array([4, 3, 1, 7, 2, 9, 5, 8, 6])\n",
    "\n",
    "print numpy.sort(a)       # sort a \n",
    "print numpy.where(a < 5)  # indices where a < 5\n",
    "print numpy.argmin(a)     # index of the smallest element in a\n",
    "print numpy.argmax(a)     # index of the largest element in a\n",
    "print numpy.argsort(a)    # order of indices that would provide a sorted version of a\n"
   ]
  },
  {
   "cell_type": "markdown",
   "metadata": {},
   "source": [
    "### Random numbers\n",
    "\n",
    "(see http://docs.scipy.org/doc/numpy/reference/routines.random.html)"
   ]
  },
  {
   "cell_type": "code",
   "execution_count": 16,
   "metadata": {
    "collapsed": false
   },
   "outputs": [
    {
     "name": "stdout",
     "output_type": "stream",
     "text": [
      "0.241814732837\n",
      "[ 2.40840546  5.49625288  3.63275304  5.04612508  2.59975186]\n",
      "[[ 0.14783537  0.16630727  0.74859043]\n",
      " [ 0.91880053  0.37305646  0.67450147]]\n",
      "[1 3 1 1 0]\n",
      "[   54.80011666  3134.92570927     3.33162721   244.1723481    248.71475639\n",
      "    34.13682601    91.25377301  1248.26044838  1751.39320053   208.17632167]\n",
      "[4 3 1 7 2 9 5 8 6] [8 4 1 3 6 7 5 2 9]\n"
     ]
    }
   ],
   "source": [
    "import numpy.random as rnd\n",
    "\n",
    "print rnd.random()                        # single random number: 0 < random float < 1\n",
    "print rnd.random(5)*10                    # 5 random numers between 0 and 10\n",
    "print rnd.random((2,3))                   # 2x3 matrix with random numbers\n",
    "g = rnd.normal(loc=0, scale=1, size=100)  # gaussian random numbers\n",
    "print rnd.poisson(2, 5)                   # draw 5 numbers from a poisson distribution with an average frequency of 2\n",
    "print rnd.lognormal(5, 2, 10)             # draw 10 numbers from a lognormal distribution with parameters 5 and 2\n",
    "# ... and many more other distributions to choose from\n",
    "\n",
    "print a, rnd.permutation(a)               # create a random permutation of a list/array\n"
   ]
  },
  {
   "cell_type": "markdown",
   "metadata": {},
   "source": [
    "### Statistics\n",
    "\n",
    "(see http://docs.scipy.org/doc/numpy/reference/routines.statistics.html)"
   ]
  },
  {
   "cell_type": "code",
   "execution_count": 17,
   "metadata": {
    "collapsed": false
   },
   "outputs": [
    {
     "name": "stdout",
     "output_type": "stream",
     "text": [
      "0.00109325386178 0.00131821793409 1.00155990033\n",
      "0.00109325386178\n",
      "2.0\n",
      "[ 2.  2.  2.]\n",
      "[ 1.  2.  3.]\n",
      "nan\n",
      "3.0\n",
      "0.00131821793409\n",
      "0.952642913973\n",
      "[-5 -4 -3 -2 -1  0  1  2  3  4  5]\n",
      "[    29   1291  21581 135630 340916 341208 136498  21467   1349     31]\n"
     ]
    }
   ],
   "source": [
    "g = rnd.normal(loc=0, scale=1, size=1000000)\n",
    "\n",
    "print numpy.mean(g), numpy.median(g), numpy.std(g)\n",
    "print numpy.average(g, weights=numpy.ones(1e6)) # weighted average\n",
    "\n",
    "# specifying axis of operation gives different results:\n",
    "a = [[1,1,1], [2,2,2], [3,3,3]]\n",
    "print numpy.mean(a)         # mean of all numbers in the array\n",
    "print numpy.mean(a, axis=0) # mean along axis 0 (first axis = outermost axis = along columns)\n",
    "print numpy.mean(a, axis=1) # mean along axis 1 (second axis = along rows)\n",
    "\n",
    "# operations that ignore nans\n",
    "b = [1, 2, 3, numpy.nan, 4, 5]\n",
    "print numpy.mean(b)    # returns nan\n",
    "print numpy.nanmean(b) # ignores nan; see nanmedian, nanstd, ...\n",
    "\n",
    "# determine percentiles\n",
    "print numpy.percentile(g, 50) # the same as median\n",
    "print numpy.percentile(g, 68.27)-numpy.percentile(g, 31.73)\n",
    "\n",
    "# create a histogram\n",
    "hist, bins = numpy.histogram(g, bins=numpy.arange(-5, 6, 1))\n",
    "print bins\n",
    "print hist"
   ]
  },
  {
   "cell_type": "markdown",
   "metadata": {},
   "source": [
    "### Linear Algebra\n",
    "\n",
    "(see http://docs.scipy.org/doc/numpy/reference/routines.linalg.html)"
   ]
  },
  {
   "cell_type": "code",
   "execution_count": 18,
   "metadata": {
    "collapsed": false
   },
   "outputs": [
    {
     "name": "stdout",
     "output_type": "stream",
     "text": [
      "32\n",
      "32\n",
      "[[ 4  5  6]\n",
      " [ 8 10 12]\n",
      " [12 15 18]]\n",
      "(array([ 1.,  2.,  3.]), array([[ 1.,  0.,  0.],\n",
      "       [ 0.,  1.,  0.],\n",
      "       [ 0.,  0.,  1.]]))\n",
      "6.0\n",
      "[ 1. -2. -2.]\n"
     ]
    }
   ],
   "source": [
    "import numpy.linalg as la\n",
    "\n",
    "a = [1,2,3] \n",
    "b = [4,5,6]\n",
    "\n",
    "print numpy.dot(a,b) # dot product\n",
    "print numpy.inner(a,b) \n",
    "print numpy.outer(a,b) \n",
    "\n",
    "i = numpy.diag([1,2,3])\n",
    "print la.eig(i) # return eigenvalues and eigenvectors\n",
    "print la.det(i) # return determinant\n",
    "\n",
    "# solve linear equations\n",
    "a = [[3,2,-1], [2,-2,4], [-1,0.5,-1]]\n",
    "b = [1,-2,0]\n",
    "print la.solve(a,b) \n"
   ]
  }
 ],
 "metadata": {
  "kernelspec": {
   "display_name": "Python [default]",
   "language": "python",
   "name": "python2"
  },
  "language_info": {
   "codemirror_mode": {
    "name": "ipython",
    "version": 2
   },
   "file_extension": ".py",
   "mimetype": "text/x-python",
   "name": "python",
   "nbconvert_exporter": "python",
   "pygments_lexer": "ipython2",
   "version": "2.7.12"
  }
 },
 "nbformat": 4,
 "nbformat_minor": 1
}
