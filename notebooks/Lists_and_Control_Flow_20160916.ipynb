{
 "cells": [
  {
   "cell_type": "markdown",
   "metadata": {},
   "source": [
    "# Python Basics\n",
    "\n",
    "## Content\n",
    "* Lists\n",
    "* Dictionaries\n",
    "* Sets\n",
    "* Control Flow (if, for, while)"
   ]
  },
  {
   "cell_type": "markdown",
   "metadata": {},
   "source": [
    "## Lists\n",
    "\n",
    "(see https://docs.python.org/2/tutorial/introduction.html#lists)\n",
    " \n",
    "Lists are a very common concept in Python. Objects can be lists of the aforementioned data types:"
   ]
  },
  {
   "cell_type": "code",
   "execution_count": 3,
   "metadata": {
    "collapsed": true
   },
   "outputs": [],
   "source": [
    "l1 = [1, 2, 3, 4, 5, 6]     # list of the same data type\n",
    "l2 = [1, 2.3, 'a']          # list of different data types\n",
    "l3 = [[1, 2, 3], [4, 5, 6]] # a nested (multidimensional) list\n",
    "l4 = range(10)              # a neat way to generate a list of numbers"
   ]
  },
  {
   "cell_type": "markdown",
   "metadata": {},
   "source": [
    "Simple list operations:"
   ]
  },
  {
   "cell_type": "code",
   "execution_count": 10,
   "metadata": {
    "collapsed": false
   },
   "outputs": [
    {
     "name": "stdout",
     "output_type": "stream",
     "text": [
      "6\n",
      "1\n",
      "99\n",
      "[99, 2, 3, 4, 5, 6, 6, 7]\n",
      "7\n"
     ]
    }
   ],
   "source": [
    "print len(l1)        # number of items in the list\n",
    "\n",
    "print l1[0]          # access individual items in the list (square brackets!)\n",
    "l1[0] = 99           # assign a new value to an item\n",
    "print l1[0]          # the value has changed\n",
    "\n",
    "print l1+[6, 7]      # concatenate lists\n",
    "\n",
    "l1.append(11)        # append an item to a list\n",
    "print len(l1)        # the list is longer now"
   ]
  },
  {
   "cell_type": "markdown",
   "metadata": {},
   "source": [
    "Slicing allows to address certain parts of lists.\n",
    "\n",
    "**Important**: Python list indices always start at 0 (zero). "
   ]
  },
  {
   "cell_type": "code",
   "execution_count": 4,
   "metadata": {
    "collapsed": false
   },
   "outputs": [
    {
     "name": "stdout",
     "output_type": "stream",
     "text": [
      "[1, 2, 3, 4, 5, 6]\n",
      "[1, 2, 3]\n",
      "[]\n",
      "6\n",
      "5\n",
      "[1, 3, 5]\n",
      "[6, 5, 4, 3, 2, 1]\n"
     ]
    }
   ],
   "source": [
    "print l1[:]      # the whole list\n",
    "print l1[0:3]    # the first 3 items, indices: 0, 1, 2; but not 3\n",
    "print l1[6:8]    # 2 items, indices: 6, 7\n",
    "print l1[-1]     # the last item\n",
    "print l1[-2]     # the second to last item\n",
    "print l1[::2]    # every second item from the whole list\n",
    "print l1[::-1]   # reverse list"
   ]
  },
  {
   "cell_type": "markdown",
   "metadata": {},
   "source": [
    "More advanced list operations:"
   ]
  },
  {
   "cell_type": "code",
   "execution_count": 5,
   "metadata": {
    "collapsed": false
   },
   "outputs": [
    {
     "name": "stdout",
     "output_type": "stream",
     "text": [
      "6\n",
      "1\n",
      "5\n",
      "[2, 3, 4, 5, 6]\n",
      "[2, 3, 4, 5, 20, 6]\n",
      "2\n",
      "20\n",
      "[20, 6, 5, 4, 3, 2]\n",
      "[4, 9, 16, 25, 400, 36]\n",
      "[2, 3, 4]\n"
     ]
    }
   ],
   "source": [
    "print len(l1)\n",
    "print l1.pop(0) # remove item from list and return its value\n",
    "print len(l1)\n",
    "\n",
    "print l1\n",
    "l1.insert(4,20) # insert element (here: 20) before index (here: 4)\n",
    "print l1\n",
    "\n",
    "print min(l1)   # minimum value\n",
    "print max(l1)   # maximum value\n",
    "\n",
    "print sorted(l1, reverse=True)     # sort list (in descending order)\n",
    "\n",
    "print map(lambda x: x*x, l1)       # map list on a lambda function (more on lambda function later) \n",
    "\n",
    "print filter(lambda x: x < 5, l1)  # filter list using lambda function"
   ]
  },
  {
   "cell_type": "markdown",
   "metadata": {},
   "source": [
    "side note: Tuples are similar to lists, but are immutable. Tuples use parantheses instead of square brackets and are often used for function output."
   ]
  },
  {
   "cell_type": "code",
   "execution_count": 13,
   "metadata": {
    "collapsed": false
   },
   "outputs": [],
   "source": [
    "t = (1, 2)\n",
    "#t[0] = 3   # results in a TypeError"
   ]
  },
  {
   "cell_type": "markdown",
   "metadata": {},
   "source": [
    "more side notes: string are lists, too."
   ]
  },
  {
   "cell_type": "code",
   "execution_count": 14,
   "metadata": {
    "collapsed": false
   },
   "outputs": [
    {
     "name": "stdout",
     "output_type": "stream",
     "text": [
      "26\n",
      "klmnopqrstuvwxyz\n"
     ]
    }
   ],
   "source": [
    "s = 'abcdefghijklmnopqrstuvwxyz'\n",
    "print len(s)\n",
    "print s[10:]"
   ]
  },
  {
   "cell_type": "markdown",
   "metadata": {},
   "source": [
    "Dictionaries\n",
    "------------\n",
    "\n",
    "(see https://docs.python.org/2/tutorial/datastructures.html?highlight=dictionary#dictionaries)\n",
    "\n",
    "Dictionaries can be used for look-up tables. They are useful to make associations between different variables."
   ]
  },
  {
   "cell_type": "code",
   "execution_count": 15,
   "metadata": {
    "collapsed": false
   },
   "outputs": [
    {
     "name": "stdout",
     "output_type": "stream",
     "text": [
      "winter in Flagstaff is cold\n"
     ]
    }
   ],
   "source": [
    "weather = {'winter': 'cold', 'spring': 'windy', 'summer':'warm', 'fall': 'cold again'}  # mind the curly brackets\n",
    "season = 'winter'\n",
    "print season, 'in Flagstaff is', weather[season] "
   ]
  },
  {
   "cell_type": "markdown",
   "metadata": {},
   "source": [
    "Each element of a dictionary consists of a key and a value ('winter' is a key, 'cold' is the corresponding value). Lists of keys and values can be obtained as:"
   ]
  },
  {
   "cell_type": "code",
   "execution_count": 16,
   "metadata": {
    "collapsed": false
   },
   "outputs": [
    {
     "name": "stdout",
     "output_type": "stream",
     "text": [
      "['spring', 'fall', 'winter', 'summer']\n",
      "['windy', 'cold again', 'cold', 'warm']\n"
     ]
    }
   ],
   "source": [
    "print weather.keys()    # obtain all keys\n",
    "print weather.values()  # obtain all values"
   ]
  },
  {
   "cell_type": "markdown",
   "metadata": {},
   "source": [
    "Dictionaries can be extended, but note that every key can only appear once in each dictionary:"
   ]
  },
  {
   "cell_type": "code",
   "execution_count": 17,
   "metadata": {
    "collapsed": false
   },
   "outputs": [
    {
     "name": "stdout",
     "output_type": "stream",
     "text": [
      "nice\n",
      "amazing\n"
     ]
    }
   ],
   "source": [
    "weather['Thanksgiving'] = 'nice'\n",
    "print weather['Thanksgiving']\n",
    "weather['Thanksgiving'] = 'amazing'\n",
    "print weather['Thanksgiving']"
   ]
  },
  {
   "cell_type": "markdown",
   "metadata": {},
   "source": [
    "Dictionaries have a length like lists, but they are not necessarily sorted in any way:"
   ]
  },
  {
   "cell_type": "code",
   "execution_count": 18,
   "metadata": {
    "collapsed": false
   },
   "outputs": [
    {
     "name": "stdout",
     "output_type": "stream",
     "text": [
      "5\n",
      "{'spring': 'windy', 'fall': 'cold again', 'winter': 'cold', 'Thanksgiving': 'amazing', 'summer': 'warm'}\n"
     ]
    }
   ],
   "source": [
    "print len(weather)\n",
    "print weather"
   ]
  },
  {
   "cell_type": "markdown",
   "metadata": {},
   "source": [
    "## Sets\n",
    "\n",
    "(see https://docs.python.org/2/tutorial/datastructures.html?highlight=dictionary#sets)\n",
    "\n",
    "Sets are dictionaries with keys, only. They are useful to list unique elements. Similar to dictionaries, sets are not sorted."
   ]
  },
  {
   "cell_type": "code",
   "execution_count": 19,
   "metadata": {
    "collapsed": false
   },
   "outputs": [
    {
     "name": "stdout",
     "output_type": "stream",
     "text": [
      "set(['butter', 'eggs', 'milk', 'bread'])\n"
     ]
    }
   ],
   "source": [
    "basket = set(['bread', 'eggs', 'butter', 'milk', 'bread']) # note that sets are generated from lists\n",
    "print basket"
   ]
  },
  {
   "cell_type": "markdown",
   "metadata": {},
   "source": [
    "It is possible to check if a certain element exists in a set (note the intuitive syntax)."
   ]
  },
  {
   "cell_type": "code",
   "execution_count": 20,
   "metadata": {
    "collapsed": false
   },
   "outputs": [
    {
     "name": "stdout",
     "output_type": "stream",
     "text": [
      "True\n",
      "False\n"
     ]
    }
   ],
   "source": [
    "print 'eggs' in basket\n",
    "print 'cake' in basket"
   ]
  },
  {
   "cell_type": "markdown",
   "metadata": {},
   "source": [
    "## Control Flow \n",
    "\n",
    "(see https://docs.python.org/2/tutorial/controlflow.html)\n",
    "\n",
    "### IF Statement\n",
    "\n",
    "\n",
    "checks if a condition is met (or not)"
   ]
  },
  {
   "cell_type": "code",
   "execution_count": 21,
   "metadata": {
    "collapsed": false
   },
   "outputs": [
    {
     "name": "stdout",
     "output_type": "stream",
     "text": [
      "buy milk\n"
     ]
    }
   ],
   "source": [
    "shoppinglist = set(['bread', 'eggs', 'butter', 'milk', 'bread'])\n",
    "item = 'milk'\n",
    "if item in shoppinglist:\n",
    "    print 'buy', item\n",
    "elif item == 'anchovis':\n",
    "    print 'we will never buy anchovis again!'\n",
    "else:\n",
    "    print 'we still have', item"
   ]
  },
  {
   "cell_type": "markdown",
   "metadata": {},
   "source": [
    "Note the indentation: everything inside the if statement must be indented by the same number of blanks. \n",
    "\n",
    "The general syntax is `if <condition>`, where `<condition>` has to be either `True` or `False`. Examples for conditions are:"
   ]
  },
  {
   "cell_type": "code",
   "execution_count": 22,
   "metadata": {
    "collapsed": false
   },
   "outputs": [
    {
     "name": "stdout",
     "output_type": "stream",
     "text": [
      "True\n",
      "False\n",
      "True\n",
      "False\n",
      "False\n",
      "True\n"
     ]
    }
   ],
   "source": [
    "x = 1\n",
    "print x < 5\n",
    "print x > 6\n",
    "print x is not 2  # another example of Python's intuitive syntax\n",
    "print x is 2\n",
    "print x < 5 and x > 2\n",
    "print (x-3) > 1 or (x/2.) > 0"
   ]
  },
  {
   "cell_type": "markdown",
   "metadata": {},
   "source": [
    "If statements can be put into single lines:"
   ]
  },
  {
   "cell_type": "code",
   "execution_count": 23,
   "metadata": {
    "collapsed": false
   },
   "outputs": [
    {
     "name": "stdout",
     "output_type": "stream",
     "text": [
      "x <= 5\n"
     ]
    }
   ],
   "source": [
    "print 'x greater 5' if x > 5 else 'x <= 5' # print uses either string"
   ]
  },
  {
   "cell_type": "markdown",
   "metadata": {},
   "source": [
    "### FOR Loop\n",
    "\n",
    "Some examples:"
   ]
  },
  {
   "cell_type": "code",
   "execution_count": 24,
   "metadata": {
    "collapsed": false
   },
   "outputs": [
    {
     "name": "stdout",
     "output_type": "stream",
     "text": [
      "a\n",
      "b\n",
      "c\n",
      "d\n"
     ]
    }
   ],
   "source": [
    "for item in ['a', 'b', 'c', 'd']:  # take each element from list\n",
    "    print item"
   ]
  },
  {
   "cell_type": "code",
   "execution_count": 25,
   "metadata": {
    "collapsed": false
   },
   "outputs": [
    {
     "name": "stdout",
     "output_type": "stream",
     "text": [
      "0\n",
      "1\n",
      "2\n",
      "3\n",
      "4\n",
      "5\n",
      "6\n",
      "7\n",
      "8\n",
      "9\n"
     ]
    }
   ],
   "source": [
    "for n in range(10):  # range generates a list of numbers starting with 0\n",
    "    print n"
   ]
  },
  {
   "cell_type": "code",
   "execution_count": 26,
   "metadata": {
    "collapsed": false
   },
   "outputs": [
    {
     "name": "stdout",
     "output_type": "stream",
     "text": [
      "0 a\n",
      "1 b\n",
      "2 c\n",
      "3 d\n"
     ]
    }
   ],
   "source": [
    "for idx, item in enumerate(['a', 'b', 'c', 'd']): # obtain list index and item at the same time\n",
    "    print idx, item"
   ]
  },
  {
   "cell_type": "code",
   "execution_count": 27,
   "metadata": {
    "collapsed": false
   },
   "outputs": [
    {
     "name": "stdout",
     "output_type": "stream",
     "text": [
      "a\n",
      "c\n"
     ]
    }
   ],
   "source": [
    "for item in ['a', 'b', 'c', 'd']:\n",
    "    if item == 'b':\n",
    "        continue    # continue allows to escape current loop item and resume with next one\n",
    "    if item == 'd':\n",
    "        break       # break stops the for-loop immediately ('d' gets not printed)\n",
    "    print item\n"
   ]
  },
  {
   "cell_type": "markdown",
   "metadata": {},
   "source": [
    "A single-line version of the for loop can be used to generate lists:"
   ]
  },
  {
   "cell_type": "code",
   "execution_count": 28,
   "metadata": {
    "collapsed": false
   },
   "outputs": [
    {
     "data": {
      "text/plain": [
       "[1, 5, 11, 19, 29]"
      ]
     },
     "execution_count": 28,
     "metadata": {},
     "output_type": "execute_result"
    }
   ],
   "source": [
    "[x**2+3*x+1 for x in range(5)]"
   ]
  },
  {
   "cell_type": "markdown",
   "metadata": {},
   "source": [
    "*Advice*: if you are looping through a list, you shouldn't alter this list within the loop. It will most likely mess up things:"
   ]
  },
  {
   "cell_type": "markdown",
   "metadata": {},
   "source": [
    "### WHILE Loop\n",
    "\n",
    "While loops are similar to for loops but are more useful if the number of iterations is not yet known. This is a bad example that should have been done using a for loop:"
   ]
  },
  {
   "cell_type": "code",
   "execution_count": 29,
   "metadata": {
    "collapsed": false
   },
   "outputs": [
    {
     "name": "stdout",
     "output_type": "stream",
     "text": [
      "0\n",
      "1\n",
      "2\n",
      "3\n",
      "4\n",
      "5\n",
      "6\n",
      "7\n",
      "8\n",
      "9\n"
     ]
    }
   ],
   "source": [
    "i = 0\n",
    "while i < 10:\n",
    "    print i\n",
    "    i += 1"
   ]
  },
  {
   "cell_type": "markdown",
   "metadata": {},
   "source": [
    "This is a good example of how to use a while loop:"
   ]
  },
  {
   "cell_type": "code",
   "execution_count": 30,
   "metadata": {
    "collapsed": false
   },
   "outputs": [
    {
     "name": "stdout",
     "output_type": "stream",
     "text": [
      "0\n",
      "1\n",
      "2\n",
      "3\n",
      "4\n",
      "5\n",
      "6\n",
      "I'll stop here\n"
     ]
    }
   ],
   "source": [
    "i = 0\n",
    "stop = 7\n",
    "while True:\n",
    "    print i\n",
    "    i += 1\n",
    "    if i >= stop:\n",
    "        print \"I'll stop here\"\n",
    "        break   # break also works in while-loops"
   ]
  }
 ],
 "metadata": {
  "kernelspec": {
   "display_name": "Python 2",
   "language": "python",
   "name": "python2"
  },
  "language_info": {
   "codemirror_mode": {
    "name": "ipython",
    "version": 2
   },
   "file_extension": ".py",
   "mimetype": "text/x-python",
   "name": "python",
   "nbconvert_exporter": "python",
   "pygments_lexer": "ipython2",
   "version": "2.7.6"
  }
 },
 "nbformat": 4,
 "nbformat_minor": 1
}
