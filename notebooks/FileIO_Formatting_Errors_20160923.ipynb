{
 "cells": [
  {
   "cell_type": "markdown",
   "metadata": {},
   "source": [
    "## File I/O\n",
    "\n",
    "(see https://docs.python.org/2/tutorial/inputoutput.html)\n",
    "\n",
    "Writing a table to a file:"
   ]
  },
  {
   "cell_type": "code",
   "execution_count": 1,
   "metadata": {
    "collapsed": true
   },
   "outputs": [],
   "source": [
    "outf = open('table.dat', 'w') # syntax (filename, mode), mode can be 'w' (write), 'r' (read), or 'a' (append)\n",
    "outf.writelines('# index some_value another_value\\n') # table header line\n",
    "for i in range(20):\n",
    "    outf.write('{:02d}      {:4d}        {:3d}\\n'.format(i, i**3, i+200)) # just some numbers \n",
    "outf.close()"
   ]
  },
  {
   "cell_type": "markdown",
   "metadata": {},
   "source": [
    "Reading from a file:"
   ]
  },
  {
   "cell_type": "code",
   "execution_count": 2,
   "metadata": {
    "collapsed": false
   },
   "outputs": [
    {
     "name": "stdout",
     "output_type": "stream",
     "text": [
      "[0.0, 0.0, 200.0]\n",
      "[1.0, 1.0, 201.0]\n",
      "[2.0, 8.0, 202.0]\n",
      "[3.0, 27.0, 203.0]\n",
      "[4.0, 64.0, 204.0]\n",
      "[5.0, 125.0, 205.0]\n",
      "[6.0, 216.0, 206.0]\n",
      "[7.0, 343.0, 207.0]\n",
      "[8.0, 512.0, 208.0]\n",
      "[9.0, 729.0, 209.0]\n",
      "[10.0, 1000.0, 210.0]\n",
      "[11.0, 1331.0, 211.0]\n",
      "[12.0, 1728.0, 212.0]\n",
      "[13.0, 2197.0, 213.0]\n",
      "[14.0, 2744.0, 214.0]\n",
      "[15.0, 3375.0, 215.0]\n",
      "[16.0, 4096.0, 216.0]\n",
      "[17.0, 4913.0, 217.0]\n",
      "[18.0, 5832.0, 218.0]\n",
      "[19.0, 6859.0, 219.0]\n"
     ]
    }
   ],
   "source": [
    "inf = open('table.dat', 'r') \n",
    "data = []\n",
    "for line in inf.readlines():\n",
    "    if line.find('#') > -1: \n",
    "        continue    # catch header/comment lines\n",
    "    line = line.split()\n",
    "    data.append([float(line[0]), float(line[1]), float(line[2])])\n",
    "\n",
    "for dat in data: # print data\n",
    "    print dat\n",
    "\n",
    "inf.close()  "
   ]
  },
  {
   "cell_type": "markdown",
   "metadata": {},
   "source": [
    "Closing files is not immediately necessary in Python (it will not complain about it) but it reduces the possibility of confusion and is just a sign of good manners."
   ]
  },
  {
   "cell_type": "markdown",
   "metadata": {},
   "source": [
    "## String Formatting\n",
    "\n",
    "(see https://docs.python.org/2/library/string.html#format-specification-mini-language)\n",
    "\n",
    "Strings come with a `format` function that allows to nicely format all available data types. Some examples: "
   ]
  },
  {
   "cell_type": "code",
   "execution_count": 3,
   "metadata": {
    "collapsed": false
   },
   "outputs": [
    {
     "name": "stdout",
     "output_type": "stream",
     "text": [
      "235.235\n",
      "1.100\n",
      "1234.213\n",
      "+120.23\n",
      " 12\n",
      "007\n",
      "3.1416e+04\n",
      "apple\n"
     ]
    }
   ],
   "source": [
    "print '{:7.3f}'.format(235.2345345435) # float with 7 digits total, 3 decimals\n",
    "print '{:5.3f}'.format(1.1)            # fill up unused decimals with zeros\n",
    "print '{:5.3f}'.format(1234.21321)     # preserve number of decimals\n",
    "print '{:+5.2f}'.format(120.23)        # add sign\n",
    "print '{:3d}'.format(12)               # integer \n",
    "print '{:03d}'.format(7)               # fill up with leading zeros\n",
    "print '{:10.4e}'.format(31415.9)       # exponential\n",
    "print '{:s}'.format('apple')           # string"
   ]
  },
  {
   "cell_type": "markdown",
   "metadata": {},
   "source": [
    "Python Errors and Exceptions\n",
    "----------------------------\n",
    "\n",
    "(see https://docs.python.org/2.7/tutorial/errors.html)\n",
    "\n",
    "You will encounter lots of errors in your coding career and should start early to understand them. Some examples:"
   ]
  },
  {
   "cell_type": "code",
   "execution_count": 4,
   "metadata": {
    "collapsed": false
   },
   "outputs": [
    {
     "ename": "SyntaxError",
     "evalue": "invalid syntax (<ipython-input-4-8aa9b26e120f>, line 1)",
     "output_type": "error",
     "traceback": [
      "\u001b[0;36m  File \u001b[0;32m\"<ipython-input-4-8aa9b26e120f>\"\u001b[0;36m, line \u001b[0;32m1\u001b[0m\n\u001b[0;31m    prnit 'hello'\u001b[0m\n\u001b[0m                ^\u001b[0m\n\u001b[0;31mSyntaxError\u001b[0m\u001b[0;31m:\u001b[0m invalid syntax\n"
     ]
    }
   ],
   "source": [
    "prnit 'hello'"
   ]
  },
  {
   "cell_type": "markdown",
   "metadata": {},
   "source": [
    "... will cause a `SyntaxError`, which means that the Python interpreter does not know what you are talking about. This is most likely due to a typo, or because you forgot something in your code. This errors occurs before the code actually starts running."
   ]
  },
  {
   "cell_type": "code",
   "execution_count": null,
   "metadata": {
    "collapsed": false
   },
   "outputs": [],
   "source": [
    "if 1 < 4:\n",
    "print 'one is less than four'"
   ]
  },
  {
   "cell_type": "markdown",
   "metadata": {},
   "source": [
    "Indentations are critical in Python. If Python expects an indentation but you don't provide one, it will cause an `IndentationError`. Note however, that no `IndentationError` will occur if you intended you put something in an indented block, but you didn't. It's up to you to find things like that."
   ]
  },
  {
   "cell_type": "code",
   "execution_count": null,
   "metadata": {
    "collapsed": false
   },
   "outputs": [],
   "source": [
    "def function(a, b):\n",
    "    return a/b\n",
    "\n",
    "print function(1., 0)"
   ]
  },
  {
   "cell_type": "markdown",
   "metadata": {},
   "source": [
    "This error message consists of two seperate things. The first line shows `Traceback`, which means that the error occurs in a part of your code that is called from somewhere else. You read the error message from the top to the bottom. The first component tells you where the erroneous part of your code has been called from (in this case the `print function(1., 0)` line. The second component tells you that the `return` line caused the error and that it is a `ZeroDivisionError`.\n",
    "\n",
    "For a compilation of potential errors, see https://docs.python.org/2/library/exceptions.html.\n",
    "\n",
    "Running complex code, you will run into errors during your code's runtime. The `ZeroDivisionError` is a good example for this. Python provides ways to cope with these errors during runtime using so called **exceptions**."
   ]
  },
  {
   "cell_type": "code",
   "execution_count": null,
   "metadata": {
    "collapsed": false
   },
   "outputs": [],
   "source": [
    "for i in range(10):\n",
    "    print 2./(i-5)"
   ]
  },
  {
   "cell_type": "markdown",
   "metadata": {},
   "source": [
    "This code will eventually cause a `ZeroDivisionError`. Using exceptions, the error can be caught and a different code can be run if the error occurs:"
   ]
  },
  {
   "cell_type": "code",
   "execution_count": null,
   "metadata": {
    "collapsed": false
   },
   "outputs": [],
   "source": [
    "for i in range(10):\n",
    "    try:\n",
    "        print 2./(i-5)\n",
    "    except ZeroDivisionError:\n",
    "        print 'not defined'"
   ]
  },
  {
   "cell_type": "markdown",
   "metadata": {},
   "source": [
    "Pay attention to the indentations: you can put as many lines of code as you want in both the `try` and the `except` blocks. In this case, the exception will only catch `ZeroDivisionError`s. If you don't know what might go wrong, you can catch all errors and ask what happened:"
   ]
  },
  {
   "cell_type": "code",
   "execution_count": null,
   "metadata": {
    "collapsed": false
   },
   "outputs": [],
   "source": [
    "for i in range(10):\n",
    "    try:\n",
    "        print 2./(i-5)\n",
    "    except Exception as e:\n",
    "        print 'there was an error: {:s}'.format(e)"
   ]
  }
 ],
 "metadata": {
  "anaconda-cloud": {},
  "kernelspec": {
   "display_name": "Python [default]",
   "language": "python",
   "name": "python2"
  },
  "language_info": {
   "codemirror_mode": {
    "name": "ipython",
    "version": 2
   },
   "file_extension": ".py",
   "mimetype": "text/x-python",
   "name": "python",
   "nbconvert_exporter": "python",
   "pygments_lexer": "ipython2",
   "version": "2.7.12"
  }
 },
 "nbformat": 4,
 "nbformat_minor": 1
}
