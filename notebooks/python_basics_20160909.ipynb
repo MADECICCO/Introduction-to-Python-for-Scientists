{
 "cells": [
  {
   "cell_type": "markdown",
   "metadata": {},
   "source": [
    "# Python Basics\n",
    "\n",
    "## Comments\n",
    "\n",
    "Comments provide important documentation for your code."
   ]
  },
  {
   "cell_type": "code",
   "execution_count": null,
   "metadata": {
    "collapsed": false
   },
   "outputs": [],
   "source": [
    "# this is a single line comment\n",
    "\n",
    "\"\"\"\n",
    "this is a \n",
    "multi line\n",
    "comment\n",
    "\"\"\""
   ]
  },
  {
   "cell_type": "markdown",
   "metadata": {},
   "source": [
    "Data Types\n",
    "----------\n",
    "\n",
    "(see https://docs.python.org/2/tutorial/introduction.html#numbers)\n",
    "\n",
    "Python supports the most common data types: integer, float, character, string, boolean. Based on the provided input, it selects the most simple data type. "
   ]
  },
  {
   "cell_type": "code",
   "execution_count": 2,
   "metadata": {
    "collapsed": false
   },
   "outputs": [
    {
     "name": "stdout",
     "output_type": "stream",
     "text": [
      "a <type 'float'>\n",
      "b <type 'int'>\n"
     ]
    }
   ],
   "source": [
    "a = 5.1\n",
    "print 'a', type(a)\n",
    "b = 3\n",
    "print 'b', type(b)"
   ]
  },
  {
   "cell_type": "markdown",
   "metadata": {},
   "source": [
    "What will be the data type of a+b? "
   ]
  },
  {
   "cell_type": "code",
   "execution_count": 3,
   "metadata": {
    "collapsed": false
   },
   "outputs": [
    {
     "name": "stdout",
     "output_type": "stream",
     "text": [
      "8.1 <type 'float'>\n"
     ]
    }
   ],
   "source": [
    "print a+b, type(a+b)"
   ]
  },
  {
   "cell_type": "markdown",
   "metadata": {},
   "source": [
    "It's a float. But why? If it was an integer, information would get lost. Python chooses the simplest data type that preserves all information. However, this can be tricky if you don't pay attention...\n",
    "\n",
    "**Important**: Always be aware what data type Python uses to prevent loss of information."
   ]
  },
  {
   "cell_type": "code",
   "execution_count": 4,
   "metadata": {
    "collapsed": false
   },
   "outputs": [
    {
     "name": "stdout",
     "output_type": "stream",
     "text": [
      "3/2 1\n",
      "3./2 1.5\n"
     ]
    }
   ],
   "source": [
    "print '3/2', 3/2   # integer divided by integer\n",
    "print '3./2', 3./2 # float divided by integer"
   ]
  },
  {
   "cell_type": "markdown",
   "metadata": {},
   "source": [
    "Other common data types:"
   ]
  },
  {
   "cell_type": "code",
   "execution_count": 5,
   "metadata": {
    "collapsed": false
   },
   "outputs": [
    {
     "name": "stdout",
     "output_type": "stream",
     "text": [
      "c <type 'str'>\n",
      "d <type 'str'>\n",
      "e <type 'bool'>\n"
     ]
    }
   ],
   "source": [
    "c = 'g'\n",
    "print 'c', type(c)\n",
    "d = 'stuff'\n",
    "print 'd', type(d)\n",
    "e = True\n",
    "print 'e', type(e)"
   ]
  },
  {
   "cell_type": "markdown",
   "metadata": {},
   "source": [
    "## Simple Arithmetics\n"
   ]
  },
  {
   "cell_type": "code",
   "execution_count": 6,
   "metadata": {
    "collapsed": false
   },
   "outputs": [
    {
     "name": "stdout",
     "output_type": "stream",
     "text": [
      "8.1\n",
      "2.1\n",
      "15.3\n",
      "1.7\n",
      "1.0\n",
      "2.1\n",
      "26.01\n"
     ]
    }
   ],
   "source": [
    "print a+b  # addition\n",
    "print a-b  # subtraction\n",
    "print a*b  # multiplication\n",
    "print a/b  # division\n",
    "print a//b # floor division\n",
    "print a%b  # modulus\n",
    "print a**2 # power"
   ]
  },
  {
   "cell_type": "markdown",
   "metadata": {},
   "source": [
    "Again, be aware of the data types:"
   ]
  },
  {
   "cell_type": "code",
   "execution_count": 7,
   "metadata": {
    "collapsed": false
   },
   "outputs": [],
   "source": [
    "#print a+d  # results in a TypeError"
   ]
  },
  {
   "cell_type": "markdown",
   "metadata": {},
   "source": [
    "## Strings\n",
    "\n",
    "(see https://docs.python.org/2/tutorial/introduction.html#strings)"
   ]
  },
  {
   "cell_type": "code",
   "execution_count": 8,
   "metadata": {
    "collapsed": false
   },
   "outputs": [
    {
     "name": "stdout",
     "output_type": "stream",
     "text": [
      "abcdef\n",
      "8\n",
      "-1\n",
      "lots of space\n",
      "lots of underscores\n",
      "string with underscores\n",
      "['list', 'of', 'things', 'like', 'in', 'a', 'csv', 'file']\n",
      "one\n",
      "word\n",
      "per\n",
      "line\n",
      "False\n",
      "True\n"
     ]
    }
   ],
   "source": [
    "print 'abc' + \"def\"                                  # concatenate strings (' and \" can both be used, but not mixed)\n",
    "print 'thereisabunnyhidinginhere'.find('bunny')      # index where the bunny hides\n",
    "print 'thereisabunnyhidinginhere'.find('wolf')       # return -1 if failed\n",
    "print '    lots of space   '.strip()                 # strip blanks\n",
    "print '____lots of underscores____'.strip('_')       # strip underscores\n",
    "print 'string_with_underscores'.replace('_', ' ')    # replace underscores\n",
    "print 'list,of,things,like,in,a,csv,file'.split(',') # split in to list\n",
    "print 'one\\nword\\nper\\nline'                         # use '\\n' to represent a line break\n",
    "print '123abc'.isalpha()                             # check if string consists of letters only\n",
    "print '123'.isdigit()                                # check if string consists of numbers only"
   ]
  },
  {
   "cell_type": "markdown",
   "metadata": {},
   "source": [
    "## Lists\n",
    "\n",
    "(see https://docs.python.org/2/tutorial/introduction.html#lists)\n",
    " \n",
    "Lists are a very common concept in Python. Objects can be lists of the aforementioned data types:"
   ]
  },
  {
   "cell_type": "code",
   "execution_count": 9,
   "metadata": {
    "collapsed": true
   },
   "outputs": [],
   "source": [
    "l1 = [1, 2, 3, 4, 5, 6]     # list of the same data type\n",
    "l2 = [1, 2.3, 'a']          # list of different data types\n",
    "l3 = [[1, 2, 3], [4, 5, 6]] # a nested (multidimensional) list"
   ]
  },
  {
   "cell_type": "markdown",
   "metadata": {},
   "source": [
    "Simple list operations:"
   ]
  },
  {
   "cell_type": "code",
   "execution_count": 10,
   "metadata": {
    "collapsed": false
   },
   "outputs": [
    {
     "name": "stdout",
     "output_type": "stream",
     "text": [
      "6\n",
      "1\n",
      "99\n",
      "[99, 2, 3, 4, 5, 6, 6, 7]\n",
      "7\n"
     ]
    }
   ],
   "source": [
    "print len(l1)        # number of items in the list\n",
    "\n",
    "print l1[0]          # access individual items in the list (square brackets!)\n",
    "l1[0] = 99           # assign a new value to an item\n",
    "print l1[0]          # the value has changed\n",
    "\n",
    "print l1+[6, 7]      # concatenate lists\n",
    "\n",
    "l1.append(11)        # append an item to a list\n",
    "print len(l1)        # the list is longer now"
   ]
  },
  {
   "cell_type": "markdown",
   "metadata": {},
   "source": [
    "Slicing allows to address certain parts of lists.\n",
    "\n",
    "**Important**: Python list indices always start at 0 (zero). "
   ]
  },
  {
   "cell_type": "code",
   "execution_count": 11,
   "metadata": {
    "collapsed": false
   },
   "outputs": [
    {
     "name": "stdout",
     "output_type": "stream",
     "text": [
      "[99, 2, 3, 4, 5, 6, 11]\n",
      "[99, 2, 3]\n",
      "[11]\n",
      "11\n",
      "6\n",
      "[99, 3, 5, 11]\n",
      "[11, 6, 5, 4, 3, 2, 99]\n"
     ]
    }
   ],
   "source": [
    "print l1[:]      # the whole list\n",
    "print l1[0:3]    # the first 3 items, indices: 0, 1, 2; but not 3\n",
    "print l1[6:8]    # 2 items, indices: 6, 7\n",
    "print l1[-1]     # the last item\n",
    "print l1[-2]     # the second to last item\n",
    "print l1[::2]    # every second item from the whole list\n",
    "print l1[::-1]   # reverse list"
   ]
  },
  {
   "cell_type": "markdown",
   "metadata": {},
   "source": [
    "More advanced list operations:"
   ]
  },
  {
   "cell_type": "code",
   "execution_count": 12,
   "metadata": {
    "collapsed": false
   },
   "outputs": [
    {
     "name": "stdout",
     "output_type": "stream",
     "text": [
      "7\n",
      "99\n",
      "6\n",
      "[2, 3, 4, 5, 6, 11]\n",
      "[2, 3, 4, 5, 20, 6, 11]\n",
      "[20, 11, 6, 5, 4, 3, 2]\n",
      "[4, 9, 16, 25, 400, 36, 121]\n",
      "[2, 3, 4]\n"
     ]
    }
   ],
   "source": [
    "print len(l1)\n",
    "print l1.pop(0) # remove item from list and return its value\n",
    "print len(l1)\n",
    "\n",
    "print l1\n",
    "l1.insert(4,20) # insert element (here: 20) before index (here: 4)\n",
    "print l1\n",
    "\n",
    "print sorted(l1, reverse=True)     # sort list (in descending order)\n",
    "\n",
    "print map(lambda x: x*x, l1)       # map list on a lambda function (more on lambda function later) \n",
    "\n",
    "print filter(lambda x: x < 5, l1)  # filter list using lambda function"
   ]
  },
  {
   "cell_type": "markdown",
   "metadata": {},
   "source": [
    "side note: Tuples are similar to lists, but are immutable. Tuples use parantheses instead of square brackets and are often used for function output."
   ]
  },
  {
   "cell_type": "code",
   "execution_count": 13,
   "metadata": {
    "collapsed": false
   },
   "outputs": [],
   "source": [
    "t = (1, 2)\n",
    "#t[0] = 3   # results in a TypeError"
   ]
  },
  {
   "cell_type": "markdown",
   "metadata": {},
   "source": [
    "more side notes: string are lists, too."
   ]
  },
  {
   "cell_type": "code",
   "execution_count": 14,
   "metadata": {
    "collapsed": false
   },
   "outputs": [
    {
     "name": "stdout",
     "output_type": "stream",
     "text": [
      "26\n",
      "klmnopqrstuvwxyz\n"
     ]
    }
   ],
   "source": [
    "s = 'abcdefghijklmnopqrstuvwxyz'\n",
    "print len(s)\n",
    "print s[10:]"
   ]
  },
  {
   "cell_type": "markdown",
   "metadata": {},
   "source": [
    "Dictionaries\n",
    "------------\n",
    "\n",
    "(see https://docs.python.org/2/tutorial/datastructures.html?highlight=dictionary#dictionaries)\n",
    "\n",
    "Dictionaries can be used to 'translate' things. They are useful to make associations between different variables."
   ]
  },
  {
   "cell_type": "code",
   "execution_count": 15,
   "metadata": {
    "collapsed": false
   },
   "outputs": [
    {
     "name": "stdout",
     "output_type": "stream",
     "text": [
      "winter in Flagstaff is cold\n"
     ]
    }
   ],
   "source": [
    "weather = {'winter': 'cold', 'spring': 'windy', 'summer':'warm', 'fall': 'cold again'}  # mind the curly brackets\n",
    "season = 'winter'\n",
    "print season, 'in Flagstaff is', weather[season] "
   ]
  },
  {
   "cell_type": "markdown",
   "metadata": {},
   "source": [
    "Each element of a dictionary consists of a key and a value ('winter' is a key, 'cold' is the corresponding value). Lists of keys and values can be obtained as:"
   ]
  },
  {
   "cell_type": "code",
   "execution_count": 16,
   "metadata": {
    "collapsed": false
   },
   "outputs": [
    {
     "name": "stdout",
     "output_type": "stream",
     "text": [
      "['spring', 'fall', 'winter', 'summer']\n",
      "['windy', 'cold again', 'cold', 'warm']\n"
     ]
    }
   ],
   "source": [
    "print weather.keys()    # obtain all keys\n",
    "print weather.values()  # obtain all values"
   ]
  },
  {
   "cell_type": "markdown",
   "metadata": {},
   "source": [
    "Dictionaries can be extended, but note that every key can only appear once in each dictionary:"
   ]
  },
  {
   "cell_type": "code",
   "execution_count": 17,
   "metadata": {
    "collapsed": false
   },
   "outputs": [
    {
     "name": "stdout",
     "output_type": "stream",
     "text": [
      "nice\n",
      "amazing\n"
     ]
    }
   ],
   "source": [
    "weather['Thanksgiving'] = 'nice'\n",
    "print weather['Thanksgiving']\n",
    "weather['Thanksgiving'] = 'amazing'\n",
    "print weather['Thanksgiving']"
   ]
  },
  {
   "cell_type": "markdown",
   "metadata": {},
   "source": [
    "Dictionaries have a length like lists, but they are not necessarily sorted in any way:"
   ]
  },
  {
   "cell_type": "code",
   "execution_count": 18,
   "metadata": {
    "collapsed": false
   },
   "outputs": [
    {
     "name": "stdout",
     "output_type": "stream",
     "text": [
      "5\n",
      "{'spring': 'windy', 'fall': 'cold again', 'winter': 'cold', 'Thanksgiving': 'amazing', 'summer': 'warm'}\n"
     ]
    }
   ],
   "source": [
    "print len(weather)\n",
    "print weather"
   ]
  },
  {
   "cell_type": "markdown",
   "metadata": {},
   "source": [
    "## Sets\n",
    "\n",
    "(see https://docs.python.org/2/tutorial/datastructures.html?highlight=dictionary#sets)\n",
    "\n",
    "Sets are dictionaries with keys, only. They are useful to list unique elements. Similar to dictionaries, sets are not sorted."
   ]
  },
  {
   "cell_type": "code",
   "execution_count": 19,
   "metadata": {
    "collapsed": false
   },
   "outputs": [
    {
     "name": "stdout",
     "output_type": "stream",
     "text": [
      "set(['butter', 'eggs', 'milk', 'bread'])\n"
     ]
    }
   ],
   "source": [
    "basket = set(['bread', 'eggs', 'butter', 'milk', 'bread']) # note that sets are generated from lists\n",
    "print basket"
   ]
  },
  {
   "cell_type": "markdown",
   "metadata": {},
   "source": [
    "It is possible to check if a certain element exists in a set (note the intuitive syntax)."
   ]
  },
  {
   "cell_type": "code",
   "execution_count": 20,
   "metadata": {
    "collapsed": false
   },
   "outputs": [
    {
     "name": "stdout",
     "output_type": "stream",
     "text": [
      "True\n",
      "False\n"
     ]
    }
   ],
   "source": [
    "print 'eggs' in basket\n",
    "print 'cake' in basket"
   ]
  },
  {
   "cell_type": "markdown",
   "metadata": {},
   "source": [
    "## Control Flow \n",
    "\n",
    "(see https://docs.python.org/2/tutorial/controlflow.html)\n",
    "\n",
    "### IF Statement\n",
    "\n",
    "\n",
    "checks if a condition is met (or not)"
   ]
  },
  {
   "cell_type": "code",
   "execution_count": 21,
   "metadata": {
    "collapsed": false
   },
   "outputs": [
    {
     "name": "stdout",
     "output_type": "stream",
     "text": [
      "buy milk\n"
     ]
    }
   ],
   "source": [
    "shoppinglist = set(['bread', 'eggs', 'butter', 'milk', 'bread'])\n",
    "item = 'milk'\n",
    "if item in shoppinglist:\n",
    "    print 'buy', item\n",
    "elif item == 'anchovis':\n",
    "    print 'we will never buy anchovis again!'\n",
    "else:\n",
    "    print 'we still have', item"
   ]
  },
  {
   "cell_type": "markdown",
   "metadata": {},
   "source": [
    "Note the indentation: everything inside the if statement must be indented by the same number of blanks. \n",
    "\n",
    "The general syntax is `if <condition>`, where `<condition>` has to be either `True` or `False`. Examples for conditions are:"
   ]
  },
  {
   "cell_type": "code",
   "execution_count": 22,
   "metadata": {
    "collapsed": false
   },
   "outputs": [
    {
     "name": "stdout",
     "output_type": "stream",
     "text": [
      "True\n",
      "False\n",
      "True\n",
      "False\n",
      "False\n",
      "True\n"
     ]
    }
   ],
   "source": [
    "x = 1\n",
    "print x < 5\n",
    "print x > 6\n",
    "print x is not 2  # another example of Python's intuitive syntax\n",
    "print x is 2\n",
    "print x < 5 and x > 2\n",
    "print (x-3) > 1 or (x/2.) > 0"
   ]
  },
  {
   "cell_type": "markdown",
   "metadata": {},
   "source": [
    "If statements can be put into single lines:"
   ]
  },
  {
   "cell_type": "code",
   "execution_count": 23,
   "metadata": {
    "collapsed": false
   },
   "outputs": [
    {
     "name": "stdout",
     "output_type": "stream",
     "text": [
      "x <= 5\n"
     ]
    }
   ],
   "source": [
    "print 'x greater 5' if x > 5 else 'x <= 5' # print uses either string"
   ]
  },
  {
   "cell_type": "markdown",
   "metadata": {},
   "source": [
    "### FOR Loop\n",
    "\n",
    "Some examples:"
   ]
  },
  {
   "cell_type": "code",
   "execution_count": 24,
   "metadata": {
    "collapsed": false
   },
   "outputs": [
    {
     "name": "stdout",
     "output_type": "stream",
     "text": [
      "a\n",
      "b\n",
      "c\n",
      "d\n"
     ]
    }
   ],
   "source": [
    "for item in ['a', 'b', 'c', 'd']:  # take each element from list\n",
    "    print item"
   ]
  },
  {
   "cell_type": "code",
   "execution_count": 25,
   "metadata": {
    "collapsed": false
   },
   "outputs": [
    {
     "name": "stdout",
     "output_type": "stream",
     "text": [
      "0\n",
      "1\n",
      "2\n",
      "3\n",
      "4\n",
      "5\n",
      "6\n",
      "7\n",
      "8\n",
      "9\n"
     ]
    }
   ],
   "source": [
    "for n in range(10):  # range generates a list of numbers starting with 0\n",
    "    print n"
   ]
  },
  {
   "cell_type": "code",
   "execution_count": 26,
   "metadata": {
    "collapsed": false
   },
   "outputs": [
    {
     "name": "stdout",
     "output_type": "stream",
     "text": [
      "0 a\n",
      "1 b\n",
      "2 c\n",
      "3 d\n"
     ]
    }
   ],
   "source": [
    "for idx, item in enumerate(['a', 'b', 'c', 'd']): # obtain list index and item at the same time\n",
    "    print idx, item"
   ]
  },
  {
   "cell_type": "code",
   "execution_count": 27,
   "metadata": {
    "collapsed": false
   },
   "outputs": [
    {
     "name": "stdout",
     "output_type": "stream",
     "text": [
      "a\n",
      "c\n"
     ]
    }
   ],
   "source": [
    "for item in ['a', 'b', 'c', 'd']:\n",
    "    if item == 'b':\n",
    "        continue    # continue allows to escape current loop item and resume with next one\n",
    "    if item == 'd':\n",
    "        break       # break stops the for-loop immediately ('d' gets not printed)\n",
    "    print item\n"
   ]
  },
  {
   "cell_type": "markdown",
   "metadata": {},
   "source": [
    "A single-line version of the for loop can be used to generate lists:"
   ]
  },
  {
   "cell_type": "code",
   "execution_count": 28,
   "metadata": {
    "collapsed": false
   },
   "outputs": [
    {
     "data": {
      "text/plain": [
       "[1, 5, 11, 19, 29]"
      ]
     },
     "execution_count": 28,
     "metadata": {},
     "output_type": "execute_result"
    }
   ],
   "source": [
    "[x**2+3*x+1 for x in range(5)]"
   ]
  },
  {
   "cell_type": "markdown",
   "metadata": {},
   "source": [
    "*Advice*: if you are looping through a list, you shouldn't alter this list within the loop. It will most likely mess up things:"
   ]
  },
  {
   "cell_type": "markdown",
   "metadata": {},
   "source": [
    "### WHILE Loop\n",
    "\n",
    "While loops are similar to for loops but are more useful if the number of iterations is not yet known. This is a bad example that should have been done using a for loop:"
   ]
  },
  {
   "cell_type": "code",
   "execution_count": 29,
   "metadata": {
    "collapsed": false
   },
   "outputs": [
    {
     "name": "stdout",
     "output_type": "stream",
     "text": [
      "0\n",
      "1\n",
      "2\n",
      "3\n",
      "4\n",
      "5\n",
      "6\n",
      "7\n",
      "8\n",
      "9\n"
     ]
    }
   ],
   "source": [
    "i = 0\n",
    "while i < 10:\n",
    "    print i\n",
    "    i += 1"
   ]
  },
  {
   "cell_type": "markdown",
   "metadata": {},
   "source": [
    "This is a good example of how to use a while loop:"
   ]
  },
  {
   "cell_type": "code",
   "execution_count": 30,
   "metadata": {
    "collapsed": false
   },
   "outputs": [
    {
     "name": "stdout",
     "output_type": "stream",
     "text": [
      "0\n",
      "1\n",
      "2\n",
      "3\n",
      "4\n",
      "5\n",
      "6\n",
      "I'll stop here\n"
     ]
    }
   ],
   "source": [
    "i = 0\n",
    "stop = 7\n",
    "while True:\n",
    "    print i\n",
    "    i += 1\n",
    "    if i >= stop:\n",
    "        print \"I'll stop here\"\n",
    "        break   # break also works in while-loops"
   ]
  },
  {
   "cell_type": "markdown",
   "metadata": {},
   "source": [
    "## File I/O\n",
    "\n",
    "(see https://docs.python.org/2/tutorial/inputoutput.html)\n",
    "\n",
    "Writing a table to a file:"
   ]
  },
  {
   "cell_type": "code",
   "execution_count": 31,
   "metadata": {
    "collapsed": true
   },
   "outputs": [],
   "source": [
    "outf = open('table.dat', 'w') # syntax (filename, mode), mode can be 'w' (write), 'r' (read), or 'a' (append)\n",
    "outf.writelines('# index some_value another_value\\n') # table header line\n",
    "for i in range(20):\n",
    "    outf.write('{:02d}      {:4d}        {:3d}\\n'.format(i, i**3, i+200)) # just some numbers \n",
    "outf.close()"
   ]
  },
  {
   "cell_type": "markdown",
   "metadata": {},
   "source": [
    "Reading from a file:"
   ]
  },
  {
   "cell_type": "code",
   "execution_count": 32,
   "metadata": {
    "collapsed": false
   },
   "outputs": [
    {
     "name": "stdout",
     "output_type": "stream",
     "text": [
      "[0.0, 0.0, 200.0]\n",
      "[1.0, 1.0, 201.0]\n",
      "[2.0, 8.0, 202.0]\n",
      "[3.0, 27.0, 203.0]\n",
      "[4.0, 64.0, 204.0]\n",
      "[5.0, 125.0, 205.0]\n",
      "[6.0, 216.0, 206.0]\n",
      "[7.0, 343.0, 207.0]\n",
      "[8.0, 512.0, 208.0]\n",
      "[9.0, 729.0, 209.0]\n",
      "[10.0, 1000.0, 210.0]\n",
      "[11.0, 1331.0, 211.0]\n",
      "[12.0, 1728.0, 212.0]\n",
      "[13.0, 2197.0, 213.0]\n",
      "[14.0, 2744.0, 214.0]\n",
      "[15.0, 3375.0, 215.0]\n",
      "[16.0, 4096.0, 216.0]\n",
      "[17.0, 4913.0, 217.0]\n",
      "[18.0, 5832.0, 218.0]\n",
      "[19.0, 6859.0, 219.0]\n"
     ]
    }
   ],
   "source": [
    "inf = open('table.dat', 'r') \n",
    "data = []\n",
    "for line in inf.readlines():\n",
    "    if line.find('#') > -1: \n",
    "        continue    # catch header/comment lines\n",
    "    line = line.split()\n",
    "    data.append([float(line[0]), float(line[1]), float(line[2])])\n",
    "\n",
    "for dat in data: # print data\n",
    "    print dat\n",
    "\n",
    "inf.close()  "
   ]
  },
  {
   "cell_type": "markdown",
   "metadata": {},
   "source": [
    "Closing files is not immediately necessary in Python (it will not complain about it) but it reduces the possibility of confusion and is just a sign of good manners."
   ]
  },
  {
   "cell_type": "markdown",
   "metadata": {},
   "source": [
    "## String Formatting\n",
    "\n",
    "(see https://docs.python.org/2/library/string.html#format-specification-mini-language)\n",
    "\n",
    "Strings come with a `format` function that allows to nicely format all available data types. Some examples: "
   ]
  },
  {
   "cell_type": "code",
   "execution_count": 33,
   "metadata": {
    "collapsed": false
   },
   "outputs": [
    {
     "name": "stdout",
     "output_type": "stream",
     "text": [
      "235.235\n",
      "1.100\n",
      "1234.213\n",
      "+120.23\n",
      " 12\n",
      "007\n",
      "3.1416e+04\n",
      "apple\n"
     ]
    }
   ],
   "source": [
    "print '{:7.3f}'.format(235.2345345435) # float with 7 digits total, 3 decimals\n",
    "print '{:5.3f}'.format(1.1)            # fill up unused decimals with zeros\n",
    "print '{:5.3f}'.format(1234.21321)     # preserve number of decimals\n",
    "print '{:+5.2f}'.format(120.23)        # add sign\n",
    "print '{:3d}'.format(12)               # integer \n",
    "print '{:03d}'.format(7)               # fill up with leading zeros\n",
    "print '{:10.4e}'.format(31415.9)       # exponential\n",
    "print '{:s}'.format('apple')           # string"
   ]
  },
  {
   "cell_type": "code",
   "execution_count": null,
   "metadata": {
    "collapsed": true
   },
   "outputs": [],
   "source": []
  }
 ],
 "metadata": {
  "kernelspec": {
   "display_name": "Python 2",
   "language": "python",
   "name": "python2"
  },
  "language_info": {
   "codemirror_mode": {
    "name": "ipython",
    "version": 2
   },
   "file_extension": ".py",
   "mimetype": "text/x-python",
   "name": "python",
   "nbconvert_exporter": "python",
   "pygments_lexer": "ipython2",
   "version": "2.7.12"
  }
 },
 "nbformat": 4,
 "nbformat_minor": 1
}
