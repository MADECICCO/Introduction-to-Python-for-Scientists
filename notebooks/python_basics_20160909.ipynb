{
 "cells": [
  {
   "cell_type": "markdown",
   "metadata": {},
   "source": [
    "# Python Basics\n",
    "\n",
    "## Comments\n",
    "\n",
    "Comments provide important documentation for your code."
   ]
  },
  {
   "cell_type": "code",
   "execution_count": null,
   "metadata": {
    "collapsed": false
   },
   "outputs": [],
   "source": [
    "# this is a single line comment\n",
    "\n",
    "\"\"\"\n",
    "this is a \n",
    "multi line\n",
    "comment\n",
    "\"\"\""
   ]
  },
  {
   "cell_type": "markdown",
   "metadata": {},
   "source": [
    "Data Types\n",
    "----------\n",
    "\n",
    "(see https://docs.python.org/2/tutorial/introduction.html#numbers)\n",
    "\n",
    "Python supports the most common data types: integer, float, character, string, boolean. Based on the provided input, it selects the most simple data type. "
   ]
  },
  {
   "cell_type": "code",
   "execution_count": 2,
   "metadata": {
    "collapsed": false
   },
   "outputs": [
    {
     "name": "stdout",
     "output_type": "stream",
     "text": [
      "a <type 'float'>\n",
      "b <type 'int'>\n"
     ]
    }
   ],
   "source": [
    "a = 5.1\n",
    "print 'a', type(a)\n",
    "b = 3\n",
    "print 'b', type(b)"
   ]
  },
  {
   "cell_type": "markdown",
   "metadata": {},
   "source": [
    "What will be the data type of a+b? "
   ]
  },
  {
   "cell_type": "code",
   "execution_count": 3,
   "metadata": {
    "collapsed": false
   },
   "outputs": [
    {
     "name": "stdout",
     "output_type": "stream",
     "text": [
      "8.1 <type 'float'>\n"
     ]
    }
   ],
   "source": [
    "print a+b, type(a+b)"
   ]
  },
  {
   "cell_type": "markdown",
   "metadata": {},
   "source": [
    "It's a float. But why? If it was an integer, information would get lost. Python chooses the simplest data type that preserves all information. However, this can be tricky if you don't pay attention...\n",
    "\n",
    "**Important**: Always be aware what data type Python uses to prevent loss of information."
   ]
  },
  {
   "cell_type": "code",
   "execution_count": 4,
   "metadata": {
    "collapsed": false
   },
   "outputs": [
    {
     "name": "stdout",
     "output_type": "stream",
     "text": [
      "3/2 1\n",
      "3./2 1.5\n"
     ]
    }
   ],
   "source": [
    "print '3/2', 3/2   # integer divided by integer\n",
    "print '3./2', 3./2 # float divided by integer"
   ]
  },
  {
   "cell_type": "markdown",
   "metadata": {},
   "source": [
    "Other common data types:"
   ]
  },
  {
   "cell_type": "code",
   "execution_count": 5,
   "metadata": {
    "collapsed": false
   },
   "outputs": [
    {
     "name": "stdout",
     "output_type": "stream",
     "text": [
      "c <type 'str'>\n",
      "d <type 'str'>\n",
      "e <type 'bool'>\n"
     ]
    }
   ],
   "source": [
    "c = 'g'\n",
    "print 'c', type(c)\n",
    "d = 'stuff'\n",
    "print 'd', type(d)\n",
    "e = True\n",
    "print 'e', type(e)"
   ]
  },
  {
   "cell_type": "markdown",
   "metadata": {},
   "source": [
    "## Simple Arithmetics\n"
   ]
  },
  {
   "cell_type": "code",
   "execution_count": 6,
   "metadata": {
    "collapsed": false
   },
   "outputs": [
    {
     "name": "stdout",
     "output_type": "stream",
     "text": [
      "8.1\n",
      "2.1\n",
      "15.3\n",
      "1.7\n",
      "1.0\n",
      "2.1\n",
      "26.01\n"
     ]
    }
   ],
   "source": [
    "print a+b  # addition\n",
    "print a-b  # subtraction\n",
    "print a*b  # multiplication\n",
    "print a/b  # division\n",
    "print a//b # floor division\n",
    "print a%b  # modulus\n",
    "print a**2 # power"
   ]
  },
  {
   "cell_type": "markdown",
   "metadata": {},
   "source": [
    "Again, be aware of the data types:"
   ]
  },
  {
   "cell_type": "code",
   "execution_count": 7,
   "metadata": {
    "collapsed": false
   },
   "outputs": [],
   "source": [
    "#print a+d  # results in a TypeError"
   ]
  },
  {
   "cell_type": "markdown",
   "metadata": {},
   "source": [
    "## Strings\n",
    "\n",
    "(see https://docs.python.org/2/tutorial/introduction.html#strings)"
   ]
  },
  {
   "cell_type": "code",
   "execution_count": 8,
   "metadata": {
    "collapsed": false
   },
   "outputs": [
    {
     "name": "stdout",
     "output_type": "stream",
     "text": [
      "abcdef\n",
      "8\n",
      "-1\n",
      "lots of space\n",
      "lots of underscores\n",
      "string with underscores\n",
      "['list', 'of', 'things', 'like', 'in', 'a', 'csv', 'file']\n",
      "one\n",
      "word\n",
      "per\n",
      "line\n",
      "False\n",
      "True\n"
     ]
    }
   ],
   "source": [
    "print 'abc' + \"def\"                                  # concatenate strings (' and \" can both be used, but not mixed)\n",
    "print 'thereisabunnyhidinginhere'.find('bunny')      # index where the bunny hides\n",
    "print 'thereisabunnyhidinginhere'.find('wolf')       # return -1 if failed\n",
    "print '    lots of space   '.strip()                 # strip blanks\n",
    "print '____lots of underscores____'.strip('_')       # strip underscores\n",
    "print 'string_with_underscores'.replace('_', ' ')    # replace underscores\n",
    "print 'list,of,things,like,in,a,csv,file'.split(',') # split in to list\n",
    "print 'one\\nword\\nper\\nline'                         # use '\\n' to represent a line break\n",
    "print '123abc'.isalpha()                             # check if string consists of letters only\n",
    "print '123'.isdigit()                                # check if string consists of numbers only"
   ]
  }
 ],
 "metadata": {
  "kernelspec": {
   "display_name": "Python 2",
   "language": "python",
   "name": "python2"
  },
  "language_info": {
   "codemirror_mode": {
    "name": "ipython",
    "version": 2
   },
   "file_extension": ".py",
   "mimetype": "text/x-python",
   "name": "python",
   "nbconvert_exporter": "python",
   "pygments_lexer": "ipython2",
   "version": "2.7.12"
  }
 },
 "nbformat": 4,
 "nbformat_minor": 1
}
