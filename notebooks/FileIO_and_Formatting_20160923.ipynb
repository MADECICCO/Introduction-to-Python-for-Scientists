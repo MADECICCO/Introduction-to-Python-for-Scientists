{
 "cells": [
  {
   "cell_type": "markdown",
   "metadata": {},
   "source": [
    "## File I/O\n",
    "\n",
    "(see https://docs.python.org/2/tutorial/inputoutput.html)\n",
    "\n",
    "Writing a table to a file:"
   ]
  },
  {
   "cell_type": "code",
   "execution_count": 31,
   "metadata": {
    "collapsed": true
   },
   "outputs": [],
   "source": [
    "outf = open('table.dat', 'w') # syntax (filename, mode), mode can be 'w' (write), 'r' (read), or 'a' (append)\n",
    "outf.writelines('# index some_value another_value\\n') # table header line\n",
    "for i in range(20):\n",
    "    outf.write('{:02d}      {:4d}        {:3d}\\n'.format(i, i**3, i+200)) # just some numbers \n",
    "outf.close()"
   ]
  },
  {
   "cell_type": "markdown",
   "metadata": {},
   "source": [
    "Reading from a file:"
   ]
  },
  {
   "cell_type": "code",
   "execution_count": 32,
   "metadata": {
    "collapsed": false
   },
   "outputs": [
    {
     "name": "stdout",
     "output_type": "stream",
     "text": [
      "[0.0, 0.0, 200.0]\n",
      "[1.0, 1.0, 201.0]\n",
      "[2.0, 8.0, 202.0]\n",
      "[3.0, 27.0, 203.0]\n",
      "[4.0, 64.0, 204.0]\n",
      "[5.0, 125.0, 205.0]\n",
      "[6.0, 216.0, 206.0]\n",
      "[7.0, 343.0, 207.0]\n",
      "[8.0, 512.0, 208.0]\n",
      "[9.0, 729.0, 209.0]\n",
      "[10.0, 1000.0, 210.0]\n",
      "[11.0, 1331.0, 211.0]\n",
      "[12.0, 1728.0, 212.0]\n",
      "[13.0, 2197.0, 213.0]\n",
      "[14.0, 2744.0, 214.0]\n",
      "[15.0, 3375.0, 215.0]\n",
      "[16.0, 4096.0, 216.0]\n",
      "[17.0, 4913.0, 217.0]\n",
      "[18.0, 5832.0, 218.0]\n",
      "[19.0, 6859.0, 219.0]\n"
     ]
    }
   ],
   "source": [
    "inf = open('table.dat', 'r') \n",
    "data = []\n",
    "for line in inf.readlines():\n",
    "    if line.find('#') > -1: \n",
    "        continue    # catch header/comment lines\n",
    "    line = line.split()\n",
    "    data.append([float(line[0]), float(line[1]), float(line[2])])\n",
    "\n",
    "for dat in data: # print data\n",
    "    print dat\n",
    "\n",
    "inf.close()  "
   ]
  },
  {
   "cell_type": "markdown",
   "metadata": {},
   "source": [
    "Closing files is not immediately necessary in Python (it will not complain about it) but it reduces the possibility of confusion and is just a sign of good manners."
   ]
  },
  {
   "cell_type": "markdown",
   "metadata": {},
   "source": [
    "## String Formatting\n",
    "\n",
    "(see https://docs.python.org/2/library/string.html#format-specification-mini-language)\n",
    "\n",
    "Strings come with a `format` function that allows to nicely format all available data types. Some examples: "
   ]
  },
  {
   "cell_type": "code",
   "execution_count": 33,
   "metadata": {
    "collapsed": false
   },
   "outputs": [
    {
     "name": "stdout",
     "output_type": "stream",
     "text": [
      "235.235\n",
      "1.100\n",
      "1234.213\n",
      "+120.23\n",
      " 12\n",
      "007\n",
      "3.1416e+04\n",
      "apple\n"
     ]
    }
   ],
   "source": [
    "print '{:7.3f}'.format(235.2345345435) # float with 7 digits total, 3 decimals\n",
    "print '{:5.3f}'.format(1.1)            # fill up unused decimals with zeros\n",
    "print '{:5.3f}'.format(1234.21321)     # preserve number of decimals\n",
    "print '{:+5.2f}'.format(120.23)        # add sign\n",
    "print '{:3d}'.format(12)               # integer \n",
    "print '{:03d}'.format(7)               # fill up with leading zeros\n",
    "print '{:10.4e}'.format(31415.9)       # exponential\n",
    "print '{:s}'.format('apple')           # string"
   ]
  }
 ],
 "metadata": {
  "kernelspec": {
   "display_name": "Python 2",
   "language": "python",
   "name": "python2"
  },
  "language_info": {
   "codemirror_mode": {
    "name": "ipython",
    "version": 2
   },
   "file_extension": ".py",
   "mimetype": "text/x-python",
   "name": "python",
   "nbconvert_exporter": "python",
   "pygments_lexer": "ipython2",
   "version": "2.7.6"
  }
 },
 "nbformat": 4,
 "nbformat_minor": 1
}
